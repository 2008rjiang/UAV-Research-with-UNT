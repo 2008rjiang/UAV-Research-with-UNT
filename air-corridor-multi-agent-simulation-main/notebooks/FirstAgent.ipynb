{
 "cells": [
  {
   "cell_type": "code",
   "execution_count": 3,
   "id": "e6f30cf6-9821-4965-a8c9-29ab69e5af8c",
   "metadata": {},
   "outputs": [
    {
     "name": "stderr",
     "output_type": "stream",
     "text": [
      "\u001b[32m\u001b[1m    Updating\u001b[22m\u001b[39m registry at `~/.julia/registries/General.toml`\n",
      "\u001b[32m\u001b[1m   Resolving\u001b[22m\u001b[39m package versions...\n",
      "\u001b[32m\u001b[1m  No Changes\u001b[22m\u001b[39m to `~/.julia/environments/v1.11/Project.toml`\n",
      "\u001b[32m\u001b[1m  No Changes\u001b[22m\u001b[39m to `~/.julia/environments/v1.11/Manifest.toml`\n",
      "\u001b[32m\u001b[1m   Resolving\u001b[22m\u001b[39m package versions...\n",
      "\u001b[32m\u001b[1m  No Changes\u001b[22m\u001b[39m to `~/.julia/environments/v1.11/Project.toml`\n",
      "\u001b[32m\u001b[1m  No Changes\u001b[22m\u001b[39m to `~/.julia/environments/v1.11/Manifest.toml`\n"
     ]
    }
   ],
   "source": [
    "using Pkg\n",
    "Pkg.add(\"ImageMagick\")\n",
    "Pkg.add(\"FileIO\")"
   ]
  },
  {
   "cell_type": "code",
   "execution_count": 4,
   "id": "d8ab3d3b-341f-434b-b25a-d14248841fbf",
   "metadata": {
    "scrolled": true
   },
   "outputs": [],
   "source": [
    "using Agents, Agents.Pathfinding\n",
    "using Random\n",
    "import ImageMagick\n",
    "using FileIO: load"
   ]
  },
  {
   "cell_type": "code",
   "execution_count": 5,
   "id": "3dfff1a7-a660-454f-a56a-ca2563da1d03",
   "metadata": {},
   "outputs": [
    {
     "ename": "LoadError",
     "evalue": "LoadError: MethodError: no method matching var\"@multiagent\"(::LineNumberNode, ::Module, ::QuoteNode, ::Expr)\nThe function `@multiagent` exists, but no method is defined for this combination of argument types.\n\n\u001b[0mClosest candidates are:\n\u001b[0m  var\"@multiagent\"(::LineNumberNode, ::Module, ::Any)\n\u001b[0m\u001b[90m   @\u001b[39m \u001b[35mAgents\u001b[39m \u001b[90m~/.julia/packages/Agents/WuWeG/src/core/\u001b[39m\u001b[90m\u001b[4magents.jl:313\u001b[24m\u001b[39m\n\nin expression starting at In[5]:1",
     "output_type": "error",
     "traceback": [
      "LoadError: MethodError: no method matching var\"@multiagent\"(::LineNumberNode, ::Module, ::QuoteNode, ::Expr)\nThe function `@multiagent` exists, but no method is defined for this combination of argument types.\n\n\u001b[0mClosest candidates are:\n\u001b[0m  var\"@multiagent\"(::LineNumberNode, ::Module, ::Any)\n\u001b[0m\u001b[90m   @\u001b[39m \u001b[35mAgents\u001b[39m \u001b[90m~/.julia/packages/Agents/WuWeG/src/core/\u001b[39m\u001b[90m\u001b[4magents.jl:313\u001b[24m\u001b[39m\n\nin expression starting at In[5]:1",
      ""
     ]
    }
   ],
   "source": [
    "@multiagent :opt_speed struct Animal(ContinuousAgent{3,Float64})\n",
    "    @subagent struct Rabbit\n",
    "        energy::Float64\n",
    "    end\n",
    "    @subagent struct Fox\n",
    "        energy::Float64\n",
    "    end\n",
    "    @subagent struct Hawk\n",
    "        energy::Float64\n",
    "    end\n",
    "end"
   ]
  },
  {
   "cell_type": "code",
   "execution_count": 6,
   "id": "5cca57f4-9d36-4eb0-9241-79dc5f3cd3f4",
   "metadata": {},
   "outputs": [
    {
     "data": {
      "text/plain": [
       "(0.0, 0.0, 0.0)"
      ]
     },
     "execution_count": 6,
     "metadata": {},
     "output_type": "execute_result"
    }
   ],
   "source": [
    "eunorm(vec) = √sum(vec .^ 2)\n",
    "const v0 = (0.0, 0.0, 0.0) # we don't use the velocity field here"
   ]
  },
  {
   "cell_type": "code",
   "execution_count": null,
   "id": "2beb4729-db8f-4b56-9bba-059c7e1cfe91",
   "metadata": {},
   "outputs": [],
   "source": []
  },
  {
   "cell_type": "code",
   "execution_count": 7,
   "id": "9002d6c9-8f84-407e-a4c1-c0f18f330dfa",
   "metadata": {},
   "outputs": [
    {
     "data": {
      "text/plain": [
       "initialize_model (generic function with 5 methods)"
      ]
     },
     "execution_count": 7,
     "metadata": {},
     "output_type": "execute_result"
    }
   ],
   "source": [
    "function initialize_model(\n",
    "    heightmap_url =\n",
    "    \"https://raw.githubusercontent.com/JuliaDynamics/\" *\n",
    "    \"JuliaDynamics/master/videos/agents/rabbit_fox_hawk_heightmap.png\",\n",
    "    water_level = 8,\n",
    "    grass_level = 20,\n",
    "    mountain_level = 35;\n",
    "    n_rabbits = 160,  ## initial number of rabbits\n",
    "    n_foxes = 30,  ## initial number of foxes\n",
    "    n_hawks = 30,  ## initial number of hawks\n",
    "    Δe_grass = 25,  ## energy gained from eating grass\n",
    "    Δe_rabbit = 30,  ## energy gained from eating one rabbit\n",
    "    rabbit_repr = 0.06,  ## probability for a rabbit to (asexually) reproduce at any step\n",
    "    fox_repr = 0.03,  ## probability for a fox to (asexually) reproduce at any step\n",
    "    hawk_repr = 0.02, ## probability for a hawk to (asexually) reproduce at any step\n",
    "    rabbit_vision = 6,  ## how far rabbits can see grass and spot predators\n",
    "    fox_vision = 10,  ## how far foxes can see rabbits to hunt\n",
    "    hawk_vision = 15,  ## how far hawks can see rabbits to hunt\n",
    "    rabbit_speed = 1.3, ## movement speed of rabbits\n",
    "    fox_speed = 1.1,  ## movement speed of foxes\n",
    "    hawk_speed = 1.2, ## movement speed of hawks\n",
    "    regrowth_chance = 0.03,  ## probability that a patch of grass regrows at any step\n",
    "    dt = 0.1,   ## discrete timestep each iteration of the model\n",
    "    seed = 42,  ## seed for random number generator\n",
    ")\n",
    "\n",
    "    # Download and load the heightmap. The grayscale value is converted to `Float64` and\n",
    "    # scaled from 1 to 40\n",
    "    heightmap = floor.(Int, convert.(Float64, load(download(heightmap_url))) * 39) .+ 1\n",
    "    # The x and y dimensions of the pathfinder are that of the heightmap\n",
    "    dims = (size(heightmap)..., 50)\n",
    "    # The region of the map that is accessible to each type of animal (land-based or flying)\n",
    "    # is defined using `BitArrays`\n",
    "    land_walkmap = BitArray(falses(dims...))\n",
    "    air_walkmap = BitArray(falses(dims...))\n",
    "    for i in 1:dims[1], j in 1:dims[2]\n",
    "        # land animals can only walk on top of the terrain between water_level and grass_level\n",
    "        if water_level < heightmap[i, j] < grass_level\n",
    "            land_walkmap[i, j, heightmap[i, j]+1] = true\n",
    "        end\n",
    "        # air animals can fly at any height upto mountain_level\n",
    "        if heightmap[i, j] < mountain_level\n",
    "            air_walkmap[i, j, (heightmap[i, j]+1):mountain_level] .= true\n",
    "        end\n",
    "    end\n",
    "\n",
    "    # Generate the RNG for the model\n",
    "    rng = MersenneTwister(seed)\n",
    "\n",
    "    # Note that the dimensions of the space do not have to correspond to the dimensions\n",
    "    # of the pathfinder. Discretisation is handled by the pathfinding methods\n",
    "    space = ContinuousSpace((100., 100., 50.); periodic = false)\n",
    "\n",
    "    # Generate an array of random numbers, and threshold it by the probability of grass growing\n",
    "    # at that location. Although this causes grass to grow below `water_level`, it is\n",
    "    # effectively ignored by `land_walkmap`\n",
    "    grass = BitArray(\n",
    "        rand(rng, dims[1:2]...) .< ((grass_level .- heightmap) ./ (grass_level - water_level)),\n",
    "    )\n",
    "    properties = (\n",
    "        # The pathfinder for rabbits and foxes\n",
    "        landfinder = AStar(space; walkmap = land_walkmap),\n",
    "        # The pathfinder for hawks\n",
    "        airfinder = AStar(space; walkmap = air_walkmap, cost_metric = MaxDistance{3}()),\n",
    "        Δe_grass = Δe_grass,\n",
    "        Δe_rabbit = Δe_rabbit,\n",
    "        rabbit_repr = rabbit_repr,\n",
    "        fox_repr = fox_repr,\n",
    "        hawk_repr = hawk_repr,\n",
    "        rabbit_vision = rabbit_vision,\n",
    "        fox_vision = fox_vision,\n",
    "        hawk_vision = hawk_vision,\n",
    "        rabbit_speed = rabbit_speed,\n",
    "        fox_speed = fox_speed,\n",
    "        hawk_speed = hawk_speed,\n",
    "        heightmap = heightmap,\n",
    "        grass = grass,\n",
    "        regrowth_chance = regrowth_chance,\n",
    "        water_level = water_level,\n",
    "        grass_level = grass_level,\n",
    "        dt = dt,\n",
    "    )\n",
    "\n",
    "    model = StandardABM(Animal, space; agent_step! = animal_step!,\n",
    "                        model_step! = model_step!, rng, properties)\n",
    "\n",
    "    # spawn each animal at a random walkable position according to its pathfinder\n",
    "    for _ in 1:n_rabbits\n",
    "        pos = random_walkable(model, model.landfinder)\n",
    "        add_agent!(pos, Rabbit, model, v0, rand(abmrng(model), Δe_grass:2Δe_grass))\n",
    "    end\n",
    "    for _ in 1:n_foxes\n",
    "        pos = random_walkable(model, model.landfinder)\n",
    "        add_agent!(pos, Fox, model, v0, rand(abmrng(model), Δe_rabbit:2Δe_rabbit))\n",
    "    end\n",
    "    for _ in 1:n_hawks\n",
    "        pos = random_walkable(model, model.airfinder)\n",
    "        add_agent!(pos, Hawk, model, v0, rand(abmrng(model), Δe_rabbit:2Δe_rabbit))\n",
    "    end\n",
    "    return model\n",
    "end"
   ]
  },
  {
   "cell_type": "code",
   "execution_count": 8,
   "id": "8476b4e6-61c4-4185-a965-887b95e39de0",
   "metadata": {},
   "outputs": [
    {
     "data": {
      "text/plain": [
       "animal_step! (generic function with 1 method)"
      ]
     },
     "execution_count": 8,
     "metadata": {},
     "output_type": "execute_result"
    }
   ],
   "source": [
    "function animal_step!(animal, model)\n",
    "    kind = kindof(animal)\n",
    "    if kind == :Rabbit\n",
    "        rabbit_step!(animal, model)\n",
    "    elseif kind == :Fox\n",
    "        fox_step!(animal, model)\n",
    "    else\n",
    "        hawk_step!(animal, model)\n",
    "    end\n",
    "end"
   ]
  },
  {
   "cell_type": "code",
   "execution_count": 9,
   "id": "a8ecfae1-5570-4a4c-b653-9e9ff3a00526",
   "metadata": {},
   "outputs": [
    {
     "data": {
      "text/plain": [
       "rabbit_step! (generic function with 1 method)"
      ]
     },
     "execution_count": 9,
     "metadata": {},
     "output_type": "execute_result"
    }
   ],
   "source": [
    "function rabbit_step!(rabbit, model)\n",
    "    # Eat grass at this position, if any\n",
    "    if get_spatial_property(rabbit.pos, model.grass, model) == 1\n",
    "        model.grass[get_spatial_index(rabbit.pos, model.grass, model)] = 0\n",
    "        rabbit.energy += model.Δe_grass\n",
    "    end\n",
    "\n",
    "    # The energy cost at each step corresponds to the amount of time that has passed\n",
    "    # since the last step\n",
    "    rabbit.energy -= model.dt\n",
    "    # All animals die if their energy reaches 0\n",
    "    if rabbit.energy <= 0\n",
    "        remove_agent!(rabbit, model, model.landfinder)\n",
    "        return\n",
    "    end\n",
    "\n",
    "    # Get a list of positions of all nearby predators\n",
    "    predators = [\n",
    "        x.pos for x in nearby_agents(rabbit, model, model.rabbit_vision) if\n",
    "            kindof(x) == :fox || kindof(x) == :hawk\n",
    "            ]\n",
    "    # If the rabbit sees a predator and isn't already moving somewhere\n",
    "    if !isempty(predators) && is_stationary(rabbit, model.landfinder)\n",
    "        # Try and get an ideal direction away from predators\n",
    "        direction = (0., 0., 0.)\n",
    "        for predator in predators\n",
    "            # Get the direction away from the predator\n",
    "            away_direction = (rabbit.pos .- predator)\n",
    "            # In case there is already a predator at our location, moving anywhere is\n",
    "            # moving away from it, so it doesn't contribute to `direction`\n",
    "            all(away_direction .≈ 0.) && continue\n",
    "            # Add this to the overall direction, scaling inversely with distance.\n",
    "            # As a result, closer predators contribute more to the direction to move in\n",
    "            direction = direction .+ away_direction ./ eunorm(away_direction) ^ 2\n",
    "        end\n",
    "        # If the only predator is right on top of the rabbit\n",
    "        if all(direction .≈ 0.)\n",
    "            # Move anywhere\n",
    "            chosen_position = random_walkable(rabbit.pos, model, model.landfinder, model.rabbit_vision)\n",
    "        else\n",
    "            # Normalize the resultant direction, and get the ideal position to move it\n",
    "            direction = direction ./ eunorm(direction)\n",
    "            # Move to a random position in the general direction of away from predators\n",
    "            position = rabbit.pos .+ direction .* (model.rabbit_vision / 2.)\n",
    "            chosen_position = random_walkable(position, model, model.landfinder, model.rabbit_vision / 2.)\n",
    "        end\n",
    "        plan_route!(rabbit, chosen_position, model.landfinder)\n",
    "    end\n",
    "\n",
    "    # Reproduce with a random probability, scaling according to the time passed each\n",
    "    # step\n",
    "    rand(abmrng(model)) <= model.rabbit_repr * model.dt && reproduce!(rabbit, model)\n",
    "\n",
    "    # If the rabbit isn't already moving somewhere, move to a random spot\n",
    "    if is_stationary(rabbit, model.landfinder)\n",
    "        plan_route!(\n",
    "            rabbit,\n",
    "            random_walkable(rabbit.pos, model, model.landfinder, model.rabbit_vision),\n",
    "            model.landfinder\n",
    "        )\n",
    "    end\n",
    "\n",
    "    # Move along the route planned above\n",
    "    move_along_route!(rabbit, model, model.landfinder, model.rabbit_speed, model.dt)\n",
    "end"
   ]
  },
  {
   "cell_type": "code",
   "execution_count": 10,
   "id": "4262fb18-d70c-45c9-aa49-cc4d6cc525ef",
   "metadata": {},
   "outputs": [
    {
     "data": {
      "text/plain": [
       "fox_step! (generic function with 1 method)"
      ]
     },
     "execution_count": 10,
     "metadata": {},
     "output_type": "execute_result"
    }
   ],
   "source": [
    "function fox_step!(fox, model)\n",
    "    # Look for nearby rabbits that can be eaten\n",
    "    food = [x for x in nearby_agents(fox, model) if kindof(x) == :rabbit]\n",
    "    if !isempty(food)\n",
    "        remove_agent!(rand(abmrng(model), food), model, model.landfinder)\n",
    "        fox.energy += model.Δe_rabbit\n",
    "    end\n",
    "\n",
    "\n",
    "    # The energy cost at each step corresponds to the amount of time that has passed\n",
    "    # since the last step\n",
    "    fox.energy -= model.dt\n",
    "    # All animals die once their energy reaches 0\n",
    "    if fox.energy <= 0\n",
    "        remove_agent!(fox, model, model.landfinder)\n",
    "        return\n",
    "    end\n",
    "\n",
    "    # Random chance to reproduce every step\n",
    "    rand(abmrng(model)) <= model.fox_repr * model.dt && reproduce!(fox, model)\n",
    "\n",
    "    # If the fox isn't already moving somewhere\n",
    "    if is_stationary(fox, model.landfinder)\n",
    "        # Look for any nearby rabbits\n",
    "        prey = [x for x in nearby_agents(fox, model, model.fox_vision) if kindof(x) == :rabbit]\n",
    "        if isempty(prey)\n",
    "            # Move anywhere if no rabbits were found\n",
    "            plan_route!(\n",
    "                fox,\n",
    "                random_walkable(fox.pos, model, model.landfinder, model.fox_vision),\n",
    "                model.landfinder,\n",
    "            )\n",
    "        else\n",
    "            # Move toward a random rabbit\n",
    "            plan_route!(fox, rand(abmrng(model), map(x -> x.pos, prey)), model.landfinder)\n",
    "        end\n",
    "    end\n",
    "\n",
    "    move_along_route!(fox, model, model.landfinder, model.fox_speed, model.dt)\n",
    "end"
   ]
  },
  {
   "cell_type": "code",
   "execution_count": 11,
   "id": "d790415a-7dea-470f-8e43-87ec77127e15",
   "metadata": {},
   "outputs": [
    {
     "data": {
      "text/plain": [
       "hawk_step! (generic function with 1 method)"
      ]
     },
     "execution_count": 11,
     "metadata": {},
     "output_type": "execute_result"
    }
   ],
   "source": [
    "function hawk_step!(hawk, model)\n",
    "    # Look for rabbits nearby\n",
    "    food = [x for x in nearby_agents(hawk, model) if kindof(x) == :rabbit]\n",
    "    if !isempty(food)\n",
    "        # Eat (remove) the rabbit\n",
    "        remove_agent!(rand(abmrng(model), food), model, model.airfinder)\n",
    "        hawk.energy += model.Δe_rabbit\n",
    "        # Fly back up\n",
    "        plan_route!(hawk, hawk.pos .+ (0., 0., 7.), model.airfinder)\n",
    "    end\n",
    "\n",
    "    # The rest of the stepping function is similar to that of foxes, except hawks use a\n",
    "    # different pathfinder\n",
    "    hawk.energy -= model.dt\n",
    "    if hawk.energy <= 0\n",
    "        remove_agent!(hawk, model, model.airfinder)\n",
    "        return\n",
    "    end\n",
    "\n",
    "    rand(abmrng(model)) <= model.hawk_repr * model.dt && reproduce!(hawk, model)\n",
    "\n",
    "    if is_stationary(hawk, model.airfinder)\n",
    "        prey = [x for x in nearby_agents(hawk, model, model.hawk_vision) if kindof(x) == :rabbit]\n",
    "        if isempty(prey)\n",
    "            plan_route!(\n",
    "                hawk,\n",
    "                random_walkable(hawk.pos, model, model.airfinder, model.hawk_vision),\n",
    "                model.airfinder,\n",
    "            )\n",
    "        else\n",
    "            plan_route!(hawk, rand(abmrng(model), map(x -> x.pos, prey)), model.airfinder)\n",
    "        end\n",
    "    end\n",
    "\n",
    "    move_along_route!(hawk, model, model.airfinder, model.hawk_speed, model.dt)\n",
    "end"
   ]
  },
  {
   "cell_type": "code",
   "execution_count": 12,
   "id": "cb5bedc1-4122-47fb-bfab-59b27fcf7e42",
   "metadata": {},
   "outputs": [
    {
     "data": {
      "text/plain": [
       "reproduce! (generic function with 1 method)"
      ]
     },
     "execution_count": 12,
     "metadata": {},
     "output_type": "execute_result"
    }
   ],
   "source": [
    "function reproduce!(animal, model)\n",
    "    animal.energy = Float64(ceil(Int, animal.energy / 2))\n",
    "    add_agent!(animal.pos, eval(kindof(animal)), model, v0, animal.energy)\n",
    "end"
   ]
  },
  {
   "cell_type": "code",
   "execution_count": 13,
   "id": "1a09e27e-55a9-47b9-a1a8-9694e9a58af2",
   "metadata": {},
   "outputs": [
    {
     "data": {
      "text/plain": [
       "model_step! (generic function with 1 method)"
      ]
     },
     "execution_count": 13,
     "metadata": {},
     "output_type": "execute_result"
    }
   ],
   "source": [
    "function model_step!(model)\n",
    "    # To prevent copying of data, obtain a view of the part of the grass matrix that\n",
    "    # doesn't have any grass, and grass can grow there\n",
    "    growable = view(\n",
    "        model.grass,\n",
    "        model.grass .== 0 .& model.water_level .< model.heightmap .<= model.grass_level,\n",
    "    )\n",
    "    # Grass regrows with a random probability, scaling with the amount of time passing\n",
    "    # each step of the model\n",
    "    growable .= rand(abmrng(model), length(growable)) .< model.regrowth_chance * model.dt\n",
    "end"
   ]
  },
  {
   "cell_type": "code",
   "execution_count": 14,
   "id": "dfe3768a-5511-446e-b00e-08696b9b76d9",
   "metadata": {},
   "outputs": [
    {
     "ename": "LoadError",
     "evalue": "UndefVarError: `Animal` not defined in `Main`\nSuggestion: check for spelling errors or missing imports.",
     "output_type": "error",
     "traceback": [
      "UndefVarError: `Animal` not defined in `Main`\nSuggestion: check for spelling errors or missing imports.",
      "",
      "Stacktrace:",
      " [1] initialize_model(heightmap_url::String, water_level::Int64, grass_level::Int64, mountain_level::Int64; n_rabbits::Int64, n_foxes::Int64, n_hawks::Int64, Δe_grass::Int64, Δe_rabbit::Int64, rabbit_repr::Float64, fox_repr::Float64, hawk_repr::Float64, rabbit_vision::Int64, fox_vision::Int64, hawk_vision::Int64, rabbit_speed::Float64, fox_speed::Float64, hawk_speed::Float64, regrowth_chance::Float64, dt::Float64, seed::Int64)",
      "   @ Main ./In[7]:84",
      " [2] initialize_model",
      "   @ ./In[7]:1 [inlined]",
      " [3] initialize_model()",
      "   @ Main ./In[7]:1",
      " [4] top-level scope",
      "   @ In[14]:1"
     ]
    }
   ],
   "source": [
    "model = initialize_model()\n"
   ]
  },
  {
   "cell_type": "code",
   "execution_count": 13,
   "id": "e3c18ffe-139e-4d74-867b-cc82e65ec60a",
   "metadata": {},
   "outputs": [
    {
     "name": "stderr",
     "output_type": "stream",
     "text": [
      "\u001b[32m\u001b[1mPrecompiling\u001b[22m\u001b[39m GLMakie\n",
      "\u001b[36m\u001b[1m        Info\u001b[22m\u001b[39m Given GLMakie was explicitly requested, output will be shown live \u001b[0K\n",
      "\u001b[0K\u001b[33m\u001b[1m┌ \u001b[22m\u001b[39m\u001b[33m\u001b[1mWarning: \u001b[22m\u001b[39m    OpenGL/GLFW wasn't loaded correctly or couldn't be initialized.\n",
      "\u001b[0K\u001b[33m\u001b[1m│ \u001b[22m\u001b[39m    This likely means, you're on a headless server without having OpenGL support setup correctly.\n",
      "\u001b[0K\u001b[33m\u001b[1m│ \u001b[22m\u001b[39m    Have a look at the troubleshooting section in the readme:\n",
      "\u001b[0K\u001b[33m\u001b[1m│ \u001b[22m\u001b[39m    https://github.com/MakieOrg/Makie.jl/tree/master/GLMakie#troubleshooting-opengl.\n",
      "\u001b[0K\u001b[33m\u001b[1m└ \u001b[22m\u001b[39m\u001b[90m@ GLMakie ~/.julia/packages/GLMakie/qLxLP/src/gl_backend.jl:4\u001b[39m\n",
      "\u001b[0K\u001b[91m\u001b[1mERROR: \u001b[22m\u001b[39mLoadError: InitError: Exception[GLFW.GLFWError(GLFW.PLATFORM_ERROR, \"X11: The DISPLAY environment variable is missing\"), ErrorException(\"glfwInit failed\")]\n",
      "\u001b[0KStacktrace:\n",
      "\u001b[0K  [1] \u001b[0m\u001b[1m__init__\u001b[22m\u001b[0m\u001b[1m(\u001b[22m\u001b[0m\u001b[1m)\u001b[22m\n",
      "\u001b[0K\u001b[90m    @\u001b[39m \u001b[35mGLFW\u001b[39m \u001b[90m~/.julia/packages/GLFW/BWxfF/src/\u001b[39m\u001b[90m\u001b[4mGLFW.jl:35\u001b[24m\u001b[39m\n",
      "\u001b[0K  [2] \u001b[0m\u001b[1mrun_module_init\u001b[22m\u001b[0m\u001b[1m(\u001b[22m\u001b[90mmod\u001b[39m::\u001b[0mModule, \u001b[90mi\u001b[39m::\u001b[0mInt64\u001b[0m\u001b[1m)\u001b[22m\n",
      "\u001b[0K\u001b[90m    @\u001b[39m \u001b[90mBase\u001b[39m \u001b[90m./\u001b[39m\u001b[90m\u001b[4mloading.jl:1134\u001b[24m\u001b[39m\n",
      "\u001b[0K  [3] \u001b[0m\u001b[1mregister_restored_modules\u001b[22m\u001b[0m\u001b[1m(\u001b[22m\u001b[90msv\u001b[39m::\u001b[0mCore.SimpleVector, \u001b[90mpkg\u001b[39m::\u001b[0mBase.PkgId, \u001b[90mpath\u001b[39m::\u001b[0mString\u001b[0m\u001b[1m)\u001b[22m\n",
      "\u001b[0K\u001b[90m    @\u001b[39m \u001b[90mBase\u001b[39m \u001b[90m./\u001b[39m\u001b[90m\u001b[4mloading.jl:1122\u001b[24m\u001b[39m\n",
      "\u001b[0K  [4] \u001b[0m\u001b[1m_include_from_serialized\u001b[22m\u001b[0m\u001b[1m(\u001b[22m\u001b[90mpkg\u001b[39m::\u001b[0mBase.PkgId, \u001b[90mpath\u001b[39m::\u001b[0mString, \u001b[90mocachepath\u001b[39m::\u001b[0mString, \u001b[90mdepmods\u001b[39m::\u001b[0mVector\u001b[90m{Any}\u001b[39m\u001b[0m\u001b[1m)\u001b[22m\n",
      "\u001b[0K\u001b[90m    @\u001b[39m \u001b[90mBase\u001b[39m \u001b[90m./\u001b[39m\u001b[90m\u001b[4mloading.jl:1067\u001b[24m\u001b[39m\n",
      "\u001b[0K  [5] \u001b[0m\u001b[1m_require_search_from_serialized\u001b[22m\u001b[0m\u001b[1m(\u001b[22m\u001b[90mpkg\u001b[39m::\u001b[0mBase.PkgId, \u001b[90msourcepath\u001b[39m::\u001b[0mString, \u001b[90mbuild_id\u001b[39m::\u001b[0mUInt128\u001b[0m\u001b[1m)\u001b[22m\n",
      "\u001b[0K\u001b[90m    @\u001b[39m \u001b[90mBase\u001b[39m \u001b[90m./\u001b[39m\u001b[90m\u001b[4mloading.jl:1581\u001b[24m\u001b[39m\n",
      "\u001b[0K  [6] \u001b[0m\u001b[1m_require\u001b[22m\u001b[0m\u001b[1m(\u001b[22m\u001b[90mpkg\u001b[39m::\u001b[0mBase.PkgId, \u001b[90menv\u001b[39m::\u001b[0mString\u001b[0m\u001b[1m)\u001b[22m\n",
      "\u001b[0K\u001b[90m    @\u001b[39m \u001b[90mBase\u001b[39m \u001b[90m./\u001b[39m\u001b[90m\u001b[4mloading.jl:1938\u001b[24m\u001b[39m\n",
      "\u001b[0K  [7] \u001b[0m\u001b[1m__require_prelocked\u001b[22m\u001b[0m\u001b[1m(\u001b[22m\u001b[90muuidkey\u001b[39m::\u001b[0mBase.PkgId, \u001b[90menv\u001b[39m::\u001b[0mString\u001b[0m\u001b[1m)\u001b[22m\n",
      "\u001b[0K\u001b[90m    @\u001b[39m \u001b[90mBase\u001b[39m \u001b[90m./\u001b[39m\u001b[90m\u001b[4mloading.jl:1812\u001b[24m\u001b[39m\n",
      "\u001b[0K  [8] \u001b[0m\u001b[1m#invoke_in_world#3\u001b[22m\n",
      "\u001b[0K\u001b[90m    @\u001b[39m \u001b[90m./\u001b[39m\u001b[90m\u001b[4messentials.jl:926\u001b[24m\u001b[39m\u001b[90m [inlined]\u001b[39m\n",
      "\u001b[0K  [9] \u001b[0m\u001b[1minvoke_in_world\u001b[22m\n",
      "\u001b[0K\u001b[90m    @\u001b[39m \u001b[90m./\u001b[39m\u001b[90m\u001b[4messentials.jl:923\u001b[24m\u001b[39m\u001b[90m [inlined]\u001b[39m\n",
      "\u001b[0K [10] \u001b[0m\u001b[1m_require_prelocked\u001b[22m\u001b[0m\u001b[1m(\u001b[22m\u001b[90muuidkey\u001b[39m::\u001b[0mBase.PkgId, \u001b[90menv\u001b[39m::\u001b[0mString\u001b[0m\u001b[1m)\u001b[22m\n",
      "\u001b[0K\u001b[90m    @\u001b[39m \u001b[90mBase\u001b[39m \u001b[90m./\u001b[39m\u001b[90m\u001b[4mloading.jl:1803\u001b[24m\u001b[39m\n",
      "\u001b[0K [11] \u001b[0m\u001b[1mmacro expansion\u001b[22m\n",
      "\u001b[0K\u001b[90m    @\u001b[39m \u001b[90m./\u001b[39m\u001b[90m\u001b[4mloading.jl:1790\u001b[24m\u001b[39m\u001b[90m [inlined]\u001b[39m\n",
      "\u001b[0K [12] \u001b[0m\u001b[1mmacro expansion\u001b[22m\n",
      "\u001b[0K\u001b[90m    @\u001b[39m \u001b[90m./\u001b[39m\u001b[90m\u001b[4mlock.jl:267\u001b[24m\u001b[39m\u001b[90m [inlined]\u001b[39m\n",
      "\u001b[0K [13] \u001b[0m\u001b[1m__require\u001b[22m\u001b[0m\u001b[1m(\u001b[22m\u001b[90minto\u001b[39m::\u001b[0mModule, \u001b[90mmod\u001b[39m::\u001b[0mSymbol\u001b[0m\u001b[1m)\u001b[22m\n",
      "\u001b[0K\u001b[90m    @\u001b[39m \u001b[90mBase\u001b[39m \u001b[90m./\u001b[39m\u001b[90m\u001b[4mloading.jl:1753\u001b[24m\u001b[39m\n",
      "\u001b[0K [14] \u001b[0m\u001b[1m#invoke_in_world#3\u001b[22m\n",
      "\u001b[0K\u001b[90m    @\u001b[39m \u001b[90m./\u001b[39m\u001b[90m\u001b[4messentials.jl:926\u001b[24m\u001b[39m\u001b[90m [inlined]\u001b[39m\n",
      "\u001b[0K [15] \u001b[0m\u001b[1minvoke_in_world\u001b[22m\n",
      "\u001b[0K\u001b[90m    @\u001b[39m \u001b[90m./\u001b[39m\u001b[90m\u001b[4messentials.jl:923\u001b[24m\u001b[39m\u001b[90m [inlined]\u001b[39m\n",
      "\u001b[0K [16] \u001b[0m\u001b[1mrequire\u001b[22m\u001b[0m\u001b[1m(\u001b[22m\u001b[90minto\u001b[39m::\u001b[0mModule, \u001b[90mmod\u001b[39m::\u001b[0mSymbol\u001b[0m\u001b[1m)\u001b[22m\n",
      "\u001b[0K\u001b[90m    @\u001b[39m \u001b[90mBase\u001b[39m \u001b[90m./\u001b[39m\u001b[90m\u001b[4mloading.jl:1746\u001b[24m\u001b[39m\n",
      "\u001b[0K [17] top-level scope\n",
      "\u001b[0K\u001b[90m    @\u001b[39m \u001b[90m~/.julia/packages/GLMakie/qLxLP/src/\u001b[39m\u001b[90m\u001b[4mgl_backend.jl:2\u001b[24m\u001b[39m\n",
      "\u001b[0K [18] \u001b[0m\u001b[1minclude\u001b[22m\u001b[0m\u001b[1m(\u001b[22m\u001b[90mmod\u001b[39m::\u001b[0mModule, \u001b[90m_path\u001b[39m::\u001b[0mString\u001b[0m\u001b[1m)\u001b[22m\n",
      "\u001b[0K\u001b[90m    @\u001b[39m \u001b[90mBase\u001b[39m \u001b[90m./\u001b[39m\u001b[90m\u001b[4mBase.jl:495\u001b[24m\u001b[39m\n",
      "\u001b[0K [19] \u001b[0m\u001b[1minclude\u001b[22m\u001b[0m\u001b[1m(\u001b[22m\u001b[90mx\u001b[39m::\u001b[0mString\u001b[0m\u001b[1m)\u001b[22m\n",
      "\u001b[0K\u001b[90m    @\u001b[39m \u001b[36mGLMakie\u001b[39m \u001b[90m~/.julia/packages/GLMakie/qLxLP/src/\u001b[39m\u001b[90m\u001b[4mGLMakie.jl:1\u001b[24m\u001b[39m\n",
      "\u001b[0K [20] top-level scope\n",
      "\u001b[0K\u001b[90m    @\u001b[39m \u001b[90m~/.julia/packages/GLMakie/qLxLP/src/\u001b[39m\u001b[90m\u001b[4mGLMakie.jl:73\u001b[24m\u001b[39m\n",
      "\u001b[0K [21] \u001b[0m\u001b[1minclude\u001b[22m\n",
      "\u001b[0K\u001b[90m    @\u001b[39m \u001b[90m./\u001b[39m\u001b[90m\u001b[4mBase.jl:495\u001b[24m\u001b[39m\u001b[90m [inlined]\u001b[39m\n",
      "\u001b[0K [22] \u001b[0m\u001b[1minclude_package_for_output\u001b[22m\u001b[0m\u001b[1m(\u001b[22m\u001b[90mpkg\u001b[39m::\u001b[0mBase.PkgId, \u001b[90minput\u001b[39m::\u001b[0mString, \u001b[90mdepot_path\u001b[39m::\u001b[0mVector\u001b[90m{String}\u001b[39m, \u001b[90mdl_load_path\u001b[39m::\u001b[0mVector\u001b[90m{String}\u001b[39m, \u001b[90mload_path\u001b[39m::\u001b[0mVector\u001b[90m{String}\u001b[39m, \u001b[90mconcrete_deps\u001b[39m::\u001b[0mVector\u001b[90m{Pair{Base.PkgId, UInt128}}\u001b[39m, \u001b[90msource\u001b[39m::\u001b[0mNothing\u001b[0m\u001b[1m)\u001b[22m\n",
      "\u001b[0K\u001b[90m    @\u001b[39m \u001b[90mBase\u001b[39m \u001b[90m./\u001b[39m\u001b[90m\u001b[4mloading.jl:2222\u001b[24m\u001b[39m\n",
      "\u001b[0K [23] top-level scope\n",
      "\u001b[0K\u001b[90m    @\u001b[39m \u001b[90m\u001b[4mstdin:3\u001b[24m\u001b[39m\n",
      "\u001b[0Kduring initialization of module GLFW\n",
      "\u001b[0Kin expression starting at /root/.julia/packages/GLMakie/qLxLP/src/gl_backend.jl:1\n",
      "\u001b[0Kin expression starting at /root/.julia/packages/GLMakie/qLxLP/src/GLMakie.jl:1\n",
      "\u001b[0Kin expression starting at stdin:3\n",
      "\u001b[91m  ✗ \u001b[39mGLMakie\n",
      "  0 dependencies successfully precompiled in 3 seconds. 265 already precompiled.\n",
      "\n"
     ]
    },
    {
     "ename": "LoadError",
     "evalue": "The following 1 direct dependency failed to precompile:\n\nGLMakie [e9467ef8-e4e7-5192-8a1a-b1aee30e663a]\n\nFailed to precompile GLMakie [e9467ef8-e4e7-5192-8a1a-b1aee30e663a] to \"/root/.julia/compiled/v1.10/GLMakie/jl_lzTFct\".\n\u001b[33m\u001b[1m┌ \u001b[22m\u001b[39m\u001b[33m\u001b[1mWarning: \u001b[22m\u001b[39m    OpenGL/GLFW wasn't loaded correctly or couldn't be initialized.\n\u001b[33m\u001b[1m│ \u001b[22m\u001b[39m    This likely means, you're on a headless server without having OpenGL support setup correctly.\n\u001b[33m\u001b[1m│ \u001b[22m\u001b[39m    Have a look at the troubleshooting section in the readme:\n\u001b[33m\u001b[1m│ \u001b[22m\u001b[39m    https://github.com/MakieOrg/Makie.jl/tree/master/GLMakie#troubleshooting-opengl.\n\u001b[33m\u001b[1m└ \u001b[22m\u001b[39m\u001b[90m@ GLMakie ~/.julia/packages/GLMakie/qLxLP/src/gl_backend.jl:4\u001b[39m\n\u001b[91m\u001b[1mERROR: \u001b[22m\u001b[39mLoadError: InitError: Exception[GLFW.GLFWError(GLFW.PLATFORM_ERROR, \"X11: The DISPLAY environment variable is missing\"), ErrorException(\"glfwInit failed\")]\nStacktrace:\n  [1] \u001b[0m\u001b[1m__init__\u001b[22m\u001b[0m\u001b[1m(\u001b[22m\u001b[0m\u001b[1m)\u001b[22m\n\u001b[90m    @\u001b[39m \u001b[35mGLFW\u001b[39m \u001b[90m~/.julia/packages/GLFW/BWxfF/src/\u001b[39m\u001b[90m\u001b[4mGLFW.jl:35\u001b[24m\u001b[39m\n  [2] \u001b[0m\u001b[1mrun_module_init\u001b[22m\u001b[0m\u001b[1m(\u001b[22m\u001b[90mmod\u001b[39m::\u001b[0mModule, \u001b[90mi\u001b[39m::\u001b[0mInt64\u001b[0m\u001b[1m)\u001b[22m\n\u001b[90m    @\u001b[39m \u001b[90mBase\u001b[39m \u001b[90m./\u001b[39m\u001b[90m\u001b[4mloading.jl:1134\u001b[24m\u001b[39m\n  [3] \u001b[0m\u001b[1mregister_restored_modules\u001b[22m\u001b[0m\u001b[1m(\u001b[22m\u001b[90msv\u001b[39m::\u001b[0mCore.SimpleVector, \u001b[90mpkg\u001b[39m::\u001b[0mBase.PkgId, \u001b[90mpath\u001b[39m::\u001b[0mString\u001b[0m\u001b[1m)\u001b[22m\n\u001b[90m    @\u001b[39m \u001b[90mBase\u001b[39m \u001b[90m./\u001b[39m\u001b[90m\u001b[4mloading.jl:1122\u001b[24m\u001b[39m\n  [4] \u001b[0m\u001b[1m_include_from_serialized\u001b[22m\u001b[0m\u001b[1m(\u001b[22m\u001b[90mpkg\u001b[39m::\u001b[0mBase.PkgId, \u001b[90mpath\u001b[39m::\u001b[0mString, \u001b[90mocachepath\u001b[39m::\u001b[0mString, \u001b[90mdepmods\u001b[39m::\u001b[0mVector\u001b[90m{Any}\u001b[39m\u001b[0m\u001b[1m)\u001b[22m\n\u001b[90m    @\u001b[39m \u001b[90mBase\u001b[39m \u001b[90m./\u001b[39m\u001b[90m\u001b[4mloading.jl:1067\u001b[24m\u001b[39m\n  [5] \u001b[0m\u001b[1m_require_search_from_serialized\u001b[22m\u001b[0m\u001b[1m(\u001b[22m\u001b[90mpkg\u001b[39m::\u001b[0mBase.PkgId, \u001b[90msourcepath\u001b[39m::\u001b[0mString, \u001b[90mbuild_id\u001b[39m::\u001b[0mUInt128\u001b[0m\u001b[1m)\u001b[22m\n\u001b[90m    @\u001b[39m \u001b[90mBase\u001b[39m \u001b[90m./\u001b[39m\u001b[90m\u001b[4mloading.jl:1581\u001b[24m\u001b[39m\n  [6] \u001b[0m\u001b[1m_require\u001b[22m\u001b[0m\u001b[1m(\u001b[22m\u001b[90mpkg\u001b[39m::\u001b[0mBase.PkgId, \u001b[90menv\u001b[39m::\u001b[0mString\u001b[0m\u001b[1m)\u001b[22m\n\u001b[90m    @\u001b[39m \u001b[90mBase\u001b[39m \u001b[90m./\u001b[39m\u001b[90m\u001b[4mloading.jl:1938\u001b[24m\u001b[39m\n  [7] \u001b[0m\u001b[1m__require_prelocked\u001b[22m\u001b[0m\u001b[1m(\u001b[22m\u001b[90muuidkey\u001b[39m::\u001b[0mBase.PkgId, \u001b[90menv\u001b[39m::\u001b[0mString\u001b[0m\u001b[1m)\u001b[22m\n\u001b[90m    @\u001b[39m \u001b[90mBase\u001b[39m \u001b[90m./\u001b[39m\u001b[90m\u001b[4mloading.jl:1812\u001b[24m\u001b[39m\n  [8] \u001b[0m\u001b[1m#invoke_in_world#3\u001b[22m\n\u001b[90m    @\u001b[39m \u001b[90m./\u001b[39m\u001b[90m\u001b[4messentials.jl:926\u001b[24m\u001b[39m\u001b[90m [inlined]\u001b[39m\n  [9] \u001b[0m\u001b[1minvoke_in_world\u001b[22m\n\u001b[90m    @\u001b[39m \u001b[90m./\u001b[39m\u001b[90m\u001b[4messentials.jl:923\u001b[24m\u001b[39m\u001b[90m [inlined]\u001b[39m\n [10] \u001b[0m\u001b[1m_require_prelocked\u001b[22m\u001b[0m\u001b[1m(\u001b[22m\u001b[90muuidkey\u001b[39m::\u001b[0mBase.PkgId, \u001b[90menv\u001b[39m::\u001b[0mString\u001b[0m\u001b[1m)\u001b[22m\n\u001b[90m    @\u001b[39m \u001b[90mBase\u001b[39m \u001b[90m./\u001b[39m\u001b[90m\u001b[4mloading.jl:1803\u001b[24m\u001b[39m\n [11] \u001b[0m\u001b[1mmacro expansion\u001b[22m\n\u001b[90m    @\u001b[39m \u001b[90m./\u001b[39m\u001b[90m\u001b[4mloading.jl:1790\u001b[24m\u001b[39m\u001b[90m [inlined]\u001b[39m\n [12] \u001b[0m\u001b[1mmacro expansion\u001b[22m\n\u001b[90m    @\u001b[39m \u001b[90m./\u001b[39m\u001b[90m\u001b[4mlock.jl:267\u001b[24m\u001b[39m\u001b[90m [inlined]\u001b[39m\n [13] \u001b[0m\u001b[1m__require\u001b[22m\u001b[0m\u001b[1m(\u001b[22m\u001b[90minto\u001b[39m::\u001b[0mModule, \u001b[90mmod\u001b[39m::\u001b[0mSymbol\u001b[0m\u001b[1m)\u001b[22m\n\u001b[90m    @\u001b[39m \u001b[90mBase\u001b[39m \u001b[90m./\u001b[39m\u001b[90m\u001b[4mloading.jl:1753\u001b[24m\u001b[39m\n [14] \u001b[0m\u001b[1m#invoke_in_world#3\u001b[22m\n\u001b[90m    @\u001b[39m \u001b[90m./\u001b[39m\u001b[90m\u001b[4messentials.jl:926\u001b[24m\u001b[39m\u001b[90m [inlined]\u001b[39m\n [15] \u001b[0m\u001b[1minvoke_in_world\u001b[22m\n\u001b[90m    @\u001b[39m \u001b[90m./\u001b[39m\u001b[90m\u001b[4messentials.jl:923\u001b[24m\u001b[39m\u001b[90m [inlined]\u001b[39m\n [16] \u001b[0m\u001b[1mrequire\u001b[22m\u001b[0m\u001b[1m(\u001b[22m\u001b[90minto\u001b[39m::\u001b[0mModule, \u001b[90mmod\u001b[39m::\u001b[0mSymbol\u001b[0m\u001b[1m)\u001b[22m\n\u001b[90m    @\u001b[39m \u001b[90mBase\u001b[39m \u001b[90m./\u001b[39m\u001b[90m\u001b[4mloading.jl:1746\u001b[24m\u001b[39m\n [17] top-level scope\n\u001b[90m    @\u001b[39m \u001b[90m~/.julia/packages/GLMakie/qLxLP/src/\u001b[39m\u001b[90m\u001b[4mgl_backend.jl:2\u001b[24m\u001b[39m\n [18] \u001b[0m\u001b[1minclude\u001b[22m\u001b[0m\u001b[1m(\u001b[22m\u001b[90mmod\u001b[39m::\u001b[0mModule, \u001b[90m_path\u001b[39m::\u001b[0mString\u001b[0m\u001b[1m)\u001b[22m\n\u001b[90m    @\u001b[39m \u001b[90mBase\u001b[39m \u001b[90m./\u001b[39m\u001b[90m\u001b[4mBase.jl:495\u001b[24m\u001b[39m\n [19] \u001b[0m\u001b[1minclude\u001b[22m\u001b[0m\u001b[1m(\u001b[22m\u001b[90mx\u001b[39m::\u001b[0mString\u001b[0m\u001b[1m)\u001b[22m\n\u001b[90m    @\u001b[39m \u001b[36mGLMakie\u001b[39m \u001b[90m~/.julia/packages/GLMakie/qLxLP/src/\u001b[39m\u001b[90m\u001b[4mGLMakie.jl:1\u001b[24m\u001b[39m\n [20] top-level scope\n\u001b[90m    @\u001b[39m \u001b[90m~/.julia/packages/GLMakie/qLxLP/src/\u001b[39m\u001b[90m\u001b[4mGLMakie.jl:73\u001b[24m\u001b[39m\n [21] \u001b[0m\u001b[1minclude\u001b[22m\n\u001b[90m    @\u001b[39m \u001b[90m./\u001b[39m\u001b[90m\u001b[4mBase.jl:495\u001b[24m\u001b[39m\u001b[90m [inlined]\u001b[39m\n [22] \u001b[0m\u001b[1minclude_package_for_output\u001b[22m\u001b[0m\u001b[1m(\u001b[22m\u001b[90mpkg\u001b[39m::\u001b[0mBase.PkgId, \u001b[90minput\u001b[39m::\u001b[0mString, \u001b[90mdepot_path\u001b[39m::\u001b[0mVector\u001b[90m{String}\u001b[39m, \u001b[90mdl_load_path\u001b[39m::\u001b[0mVector\u001b[90m{String}\u001b[39m, \u001b[90mload_path\u001b[39m::\u001b[0mVector\u001b[90m{String}\u001b[39m, \u001b[90mconcrete_deps\u001b[39m::\u001b[0mVector\u001b[90m{Pair{Base.PkgId, UInt128}}\u001b[39m, \u001b[90msource\u001b[39m::\u001b[0mNothing\u001b[0m\u001b[1m)\u001b[22m\n\u001b[90m    @\u001b[39m \u001b[90mBase\u001b[39m \u001b[90m./\u001b[39m\u001b[90m\u001b[4mloading.jl:2222\u001b[24m\u001b[39m\n [23] top-level scope\n\u001b[90m    @\u001b[39m \u001b[90m\u001b[4mstdin:3\u001b[24m\u001b[39m\nduring initialization of module GLFW\nin expression starting at /root/.julia/packages/GLMakie/qLxLP/src/gl_backend.jl:1\nin expression starting at /root/.julia/packages/GLMakie/qLxLP/src/GLMakie.jl:1\nin expression starting at stdin:",
     "output_type": "error",
     "traceback": [
      "The following 1 direct dependency failed to precompile:\n\nGLMakie [e9467ef8-e4e7-5192-8a1a-b1aee30e663a]\n\nFailed to precompile GLMakie [e9467ef8-e4e7-5192-8a1a-b1aee30e663a] to \"/root/.julia/compiled/v1.10/GLMakie/jl_lzTFct\".\n\u001b[33m\u001b[1m┌ \u001b[22m\u001b[39m\u001b[33m\u001b[1mWarning: \u001b[22m\u001b[39m    OpenGL/GLFW wasn't loaded correctly or couldn't be initialized.\n\u001b[33m\u001b[1m│ \u001b[22m\u001b[39m    This likely means, you're on a headless server without having OpenGL support setup correctly.\n\u001b[33m\u001b[1m│ \u001b[22m\u001b[39m    Have a look at the troubleshooting section in the readme:\n\u001b[33m\u001b[1m│ \u001b[22m\u001b[39m    https://github.com/MakieOrg/Makie.jl/tree/master/GLMakie#troubleshooting-opengl.\n\u001b[33m\u001b[1m└ \u001b[22m\u001b[39m\u001b[90m@ GLMakie ~/.julia/packages/GLMakie/qLxLP/src/gl_backend.jl:4\u001b[39m\n\u001b[91m\u001b[1mERROR: \u001b[22m\u001b[39mLoadError: InitError: Exception[GLFW.GLFWError(GLFW.PLATFORM_ERROR, \"X11: The DISPLAY environment variable is missing\"), ErrorException(\"glfwInit failed\")]\nStacktrace:\n  [1] \u001b[0m\u001b[1m__init__\u001b[22m\u001b[0m\u001b[1m(\u001b[22m\u001b[0m\u001b[1m)\u001b[22m\n\u001b[90m    @\u001b[39m \u001b[35mGLFW\u001b[39m \u001b[90m~/.julia/packages/GLFW/BWxfF/src/\u001b[39m\u001b[90m\u001b[4mGLFW.jl:35\u001b[24m\u001b[39m\n  [2] \u001b[0m\u001b[1mrun_module_init\u001b[22m\u001b[0m\u001b[1m(\u001b[22m\u001b[90mmod\u001b[39m::\u001b[0mModule, \u001b[90mi\u001b[39m::\u001b[0mInt64\u001b[0m\u001b[1m)\u001b[22m\n\u001b[90m    @\u001b[39m \u001b[90mBase\u001b[39m \u001b[90m./\u001b[39m\u001b[90m\u001b[4mloading.jl:1134\u001b[24m\u001b[39m\n  [3] \u001b[0m\u001b[1mregister_restored_modules\u001b[22m\u001b[0m\u001b[1m(\u001b[22m\u001b[90msv\u001b[39m::\u001b[0mCore.SimpleVector, \u001b[90mpkg\u001b[39m::\u001b[0mBase.PkgId, \u001b[90mpath\u001b[39m::\u001b[0mString\u001b[0m\u001b[1m)\u001b[22m\n\u001b[90m    @\u001b[39m \u001b[90mBase\u001b[39m \u001b[90m./\u001b[39m\u001b[90m\u001b[4mloading.jl:1122\u001b[24m\u001b[39m\n  [4] \u001b[0m\u001b[1m_include_from_serialized\u001b[22m\u001b[0m\u001b[1m(\u001b[22m\u001b[90mpkg\u001b[39m::\u001b[0mBase.PkgId, \u001b[90mpath\u001b[39m::\u001b[0mString, \u001b[90mocachepath\u001b[39m::\u001b[0mString, \u001b[90mdepmods\u001b[39m::\u001b[0mVector\u001b[90m{Any}\u001b[39m\u001b[0m\u001b[1m)\u001b[22m\n\u001b[90m    @\u001b[39m \u001b[90mBase\u001b[39m \u001b[90m./\u001b[39m\u001b[90m\u001b[4mloading.jl:1067\u001b[24m\u001b[39m\n  [5] \u001b[0m\u001b[1m_require_search_from_serialized\u001b[22m\u001b[0m\u001b[1m(\u001b[22m\u001b[90mpkg\u001b[39m::\u001b[0mBase.PkgId, \u001b[90msourcepath\u001b[39m::\u001b[0mString, \u001b[90mbuild_id\u001b[39m::\u001b[0mUInt128\u001b[0m\u001b[1m)\u001b[22m\n\u001b[90m    @\u001b[39m \u001b[90mBase\u001b[39m \u001b[90m./\u001b[39m\u001b[90m\u001b[4mloading.jl:1581\u001b[24m\u001b[39m\n  [6] \u001b[0m\u001b[1m_require\u001b[22m\u001b[0m\u001b[1m(\u001b[22m\u001b[90mpkg\u001b[39m::\u001b[0mBase.PkgId, \u001b[90menv\u001b[39m::\u001b[0mString\u001b[0m\u001b[1m)\u001b[22m\n\u001b[90m    @\u001b[39m \u001b[90mBase\u001b[39m \u001b[90m./\u001b[39m\u001b[90m\u001b[4mloading.jl:1938\u001b[24m\u001b[39m\n  [7] \u001b[0m\u001b[1m__require_prelocked\u001b[22m\u001b[0m\u001b[1m(\u001b[22m\u001b[90muuidkey\u001b[39m::\u001b[0mBase.PkgId, \u001b[90menv\u001b[39m::\u001b[0mString\u001b[0m\u001b[1m)\u001b[22m\n\u001b[90m    @\u001b[39m \u001b[90mBase\u001b[39m \u001b[90m./\u001b[39m\u001b[90m\u001b[4mloading.jl:1812\u001b[24m\u001b[39m\n  [8] \u001b[0m\u001b[1m#invoke_in_world#3\u001b[22m\n\u001b[90m    @\u001b[39m \u001b[90m./\u001b[39m\u001b[90m\u001b[4messentials.jl:926\u001b[24m\u001b[39m\u001b[90m [inlined]\u001b[39m\n  [9] \u001b[0m\u001b[1minvoke_in_world\u001b[22m\n\u001b[90m    @\u001b[39m \u001b[90m./\u001b[39m\u001b[90m\u001b[4messentials.jl:923\u001b[24m\u001b[39m\u001b[90m [inlined]\u001b[39m\n [10] \u001b[0m\u001b[1m_require_prelocked\u001b[22m\u001b[0m\u001b[1m(\u001b[22m\u001b[90muuidkey\u001b[39m::\u001b[0mBase.PkgId, \u001b[90menv\u001b[39m::\u001b[0mString\u001b[0m\u001b[1m)\u001b[22m\n\u001b[90m    @\u001b[39m \u001b[90mBase\u001b[39m \u001b[90m./\u001b[39m\u001b[90m\u001b[4mloading.jl:1803\u001b[24m\u001b[39m\n [11] \u001b[0m\u001b[1mmacro expansion\u001b[22m\n\u001b[90m    @\u001b[39m \u001b[90m./\u001b[39m\u001b[90m\u001b[4mloading.jl:1790\u001b[24m\u001b[39m\u001b[90m [inlined]\u001b[39m\n [12] \u001b[0m\u001b[1mmacro expansion\u001b[22m\n\u001b[90m    @\u001b[39m \u001b[90m./\u001b[39m\u001b[90m\u001b[4mlock.jl:267\u001b[24m\u001b[39m\u001b[90m [inlined]\u001b[39m\n [13] \u001b[0m\u001b[1m__require\u001b[22m\u001b[0m\u001b[1m(\u001b[22m\u001b[90minto\u001b[39m::\u001b[0mModule, \u001b[90mmod\u001b[39m::\u001b[0mSymbol\u001b[0m\u001b[1m)\u001b[22m\n\u001b[90m    @\u001b[39m \u001b[90mBase\u001b[39m \u001b[90m./\u001b[39m\u001b[90m\u001b[4mloading.jl:1753\u001b[24m\u001b[39m\n [14] \u001b[0m\u001b[1m#invoke_in_world#3\u001b[22m\n\u001b[90m    @\u001b[39m \u001b[90m./\u001b[39m\u001b[90m\u001b[4messentials.jl:926\u001b[24m\u001b[39m\u001b[90m [inlined]\u001b[39m\n [15] \u001b[0m\u001b[1minvoke_in_world\u001b[22m\n\u001b[90m    @\u001b[39m \u001b[90m./\u001b[39m\u001b[90m\u001b[4messentials.jl:923\u001b[24m\u001b[39m\u001b[90m [inlined]\u001b[39m\n [16] \u001b[0m\u001b[1mrequire\u001b[22m\u001b[0m\u001b[1m(\u001b[22m\u001b[90minto\u001b[39m::\u001b[0mModule, \u001b[90mmod\u001b[39m::\u001b[0mSymbol\u001b[0m\u001b[1m)\u001b[22m\n\u001b[90m    @\u001b[39m \u001b[90mBase\u001b[39m \u001b[90m./\u001b[39m\u001b[90m\u001b[4mloading.jl:1746\u001b[24m\u001b[39m\n [17] top-level scope\n\u001b[90m    @\u001b[39m \u001b[90m~/.julia/packages/GLMakie/qLxLP/src/\u001b[39m\u001b[90m\u001b[4mgl_backend.jl:2\u001b[24m\u001b[39m\n [18] \u001b[0m\u001b[1minclude\u001b[22m\u001b[0m\u001b[1m(\u001b[22m\u001b[90mmod\u001b[39m::\u001b[0mModule, \u001b[90m_path\u001b[39m::\u001b[0mString\u001b[0m\u001b[1m)\u001b[22m\n\u001b[90m    @\u001b[39m \u001b[90mBase\u001b[39m \u001b[90m./\u001b[39m\u001b[90m\u001b[4mBase.jl:495\u001b[24m\u001b[39m\n [19] \u001b[0m\u001b[1minclude\u001b[22m\u001b[0m\u001b[1m(\u001b[22m\u001b[90mx\u001b[39m::\u001b[0mString\u001b[0m\u001b[1m)\u001b[22m\n\u001b[90m    @\u001b[39m \u001b[36mGLMakie\u001b[39m \u001b[90m~/.julia/packages/GLMakie/qLxLP/src/\u001b[39m\u001b[90m\u001b[4mGLMakie.jl:1\u001b[24m\u001b[39m\n [20] top-level scope\n\u001b[90m    @\u001b[39m \u001b[90m~/.julia/packages/GLMakie/qLxLP/src/\u001b[39m\u001b[90m\u001b[4mGLMakie.jl:73\u001b[24m\u001b[39m\n [21] \u001b[0m\u001b[1minclude\u001b[22m\n\u001b[90m    @\u001b[39m \u001b[90m./\u001b[39m\u001b[90m\u001b[4mBase.jl:495\u001b[24m\u001b[39m\u001b[90m [inlined]\u001b[39m\n [22] \u001b[0m\u001b[1minclude_package_for_output\u001b[22m\u001b[0m\u001b[1m(\u001b[22m\u001b[90mpkg\u001b[39m::\u001b[0mBase.PkgId, \u001b[90minput\u001b[39m::\u001b[0mString, \u001b[90mdepot_path\u001b[39m::\u001b[0mVector\u001b[90m{String}\u001b[39m, \u001b[90mdl_load_path\u001b[39m::\u001b[0mVector\u001b[90m{String}\u001b[39m, \u001b[90mload_path\u001b[39m::\u001b[0mVector\u001b[90m{String}\u001b[39m, \u001b[90mconcrete_deps\u001b[39m::\u001b[0mVector\u001b[90m{Pair{Base.PkgId, UInt128}}\u001b[39m, \u001b[90msource\u001b[39m::\u001b[0mNothing\u001b[0m\u001b[1m)\u001b[22m\n\u001b[90m    @\u001b[39m \u001b[90mBase\u001b[39m \u001b[90m./\u001b[39m\u001b[90m\u001b[4mloading.jl:2222\u001b[24m\u001b[39m\n [23] top-level scope\n\u001b[90m    @\u001b[39m \u001b[90m\u001b[4mstdin:3\u001b[24m\u001b[39m\nduring initialization of module GLFW\nin expression starting at /root/.julia/packages/GLMakie/qLxLP/src/gl_backend.jl:1\nin expression starting at /root/.julia/packages/GLMakie/qLxLP/src/GLMakie.jl:1\nin expression starting at stdin:",
      "",
      "Stacktrace:",
      "  [1] pkgerror(msg::String)",
      "    @ Pkg.Types /usr/local/julia/share/julia/stdlib/v1.10/Pkg/src/Types.jl:70",
      "  [2] precompile(ctx::Pkg.Types.Context, pkgs::Vector{Pkg.Types.PackageSpec}; internal_call::Bool, strict::Bool, warn_loaded::Bool, already_instantiated::Bool, timing::Bool, _from_loading::Bool, kwargs::@Kwargs{io::IJulia.IJuliaStdio{Base.PipeEndpoint}})",
      "    @ Pkg.API /usr/local/julia/share/julia/stdlib/v1.10/Pkg/src/API.jl:1659",
      "  [3] precompile(pkgs::Vector{Pkg.Types.PackageSpec}; io::IJulia.IJuliaStdio{Base.PipeEndpoint}, kwargs::@Kwargs{_from_loading::Bool})",
      "    @ Pkg.API /usr/local/julia/share/julia/stdlib/v1.10/Pkg/src/API.jl:159",
      "  [4] precompile",
      "    @ /usr/local/julia/share/julia/stdlib/v1.10/Pkg/src/API.jl:147 [inlined]",
      "  [5] #precompile#114",
      "    @ /usr/local/julia/share/julia/stdlib/v1.10/Pkg/src/API.jl:146 [inlined]",
      "  [6] #invokelatest#2",
      "    @ ./essentials.jl:894 [inlined]",
      "  [7] invokelatest",
      "    @ ./essentials.jl:889 [inlined]",
      "  [8] _require(pkg::Base.PkgId, env::String)",
      "    @ Base ./loading.jl:1963",
      "  [9] __require_prelocked(uuidkey::Base.PkgId, env::String)",
      "    @ Base ./loading.jl:1812",
      " [10] #invoke_in_world#3",
      "    @ ./essentials.jl:926 [inlined]",
      " [11] invoke_in_world",
      "    @ ./essentials.jl:923 [inlined]",
      " [12] _require_prelocked(uuidkey::Base.PkgId, env::String)",
      "    @ Base ./loading.jl:1803",
      " [13] macro expansion",
      "    @ ./loading.jl:1790 [inlined]",
      " [14] macro expansion",
      "    @ ./lock.jl:267 [inlined]",
      " [15] __require(into::Module, mod::Symbol)",
      "    @ Base ./loading.jl:1753",
      " [16] #invoke_in_world#3",
      "    @ ./essentials.jl:926 [inlined]",
      " [17] invoke_in_world",
      "    @ ./essentials.jl:923 [inlined]",
      " [18] require(into::Module, mod::Symbol)",
      "    @ Base ./loading.jl:1746"
     ]
    }
   ],
   "source": [
    "using GLMakie # CairoMakie doesn't do 3D plots well"
   ]
  },
  {
   "cell_type": "code",
   "execution_count": 15,
   "id": "9aec3868-3632-4e1a-bf20-8f7cd0db60ce",
   "metadata": {},
   "outputs": [
    {
     "data": {
      "text/plain": [
       "animalcolor (generic function with 1 method)"
      ]
     },
     "execution_count": 15,
     "metadata": {},
     "output_type": "execute_result"
    }
   ],
   "source": [
    "function animalcolor(a)\n",
    "    if kindof(a) === :Rabbit\n",
    "        :brown\n",
    "    elseif kindof(a) === :Fox\n",
    "        :orange\n",
    "    else\n",
    "        :blue\n",
    "    end\n",
    "end"
   ]
  },
  {
   "cell_type": "code",
   "execution_count": 16,
   "id": "ffa5f426-34b3-44ce-ba36-7f9e6e1060a0",
   "metadata": {},
   "outputs": [
    {
     "ename": "LoadError",
     "evalue": "UndefVarError: `Axis3` not defined in `Main`\nSuggestion: check for spelling errors or missing imports.",
     "output_type": "error",
     "traceback": [
      "UndefVarError: `Axis3` not defined in `Main`\nSuggestion: check for spelling errors or missing imports.",
      "",
      "Stacktrace:",
      " [1] top-level scope",
      "   @ In[16]:2"
     ]
    }
   ],
   "source": [
    "const ABMPlot = Agents.get_ABMPlot_type()\n",
    "function Agents.static_preplot!(ax::Axis3, p::ABMPlot)\n",
    "    surface!(\n",
    "        ax,\n",
    "        (100/205):(100/205):100,\n",
    "        (100/205):(100/205):100,\n",
    "        p.abmobs[].model[].heightmap;\n",
    "        colormap = :terrain\n",
    "    )\n",
    "end"
   ]
  },
  {
   "cell_type": "code",
   "execution_count": 17,
   "id": "87b19950-8327-4f0b-8324-629decdd1af3",
   "metadata": {},
   "outputs": [
    {
     "ename": "LoadError",
     "evalue": "UndefVarError: `model` not defined in `Main`\nSuggestion: check for spelling errors or missing imports.",
     "output_type": "error",
     "traceback": [
      "UndefVarError: `model` not defined in `Main`\nSuggestion: check for spelling errors or missing imports.",
      ""
     ]
    }
   ],
   "source": [
    "model"
   ]
  },
  {
   "cell_type": "code",
   "execution_count": 18,
   "id": "ae25355b-ad76-4c31-ad15-e0ee609282cf",
   "metadata": {},
   "outputs": [
    {
     "ename": "LoadError",
     "evalue": "UndefVarError: `model` not defined in `Main`\nSuggestion: check for spelling errors or missing imports.",
     "output_type": "error",
     "traceback": [
      "UndefVarError: `model` not defined in `Main`\nSuggestion: check for spelling errors or missing imports.",
      "",
      "Stacktrace:",
      " [1] top-level scope",
      "   @ In[18]:1"
     ]
    }
   ],
   "source": [
    "abmvideo(\n",
    "    \"rabbit_fox_hawk.mp4\",\n",
    "    model;\n",
    "    figure = (size = (800, 700),),\n",
    "    frames = 300,\n",
    "    framerate = 15,\n",
    "    agent_color = animalcolor,\n",
    "    agent_size = 1.0,\n",
    "    title = \"Rabbit Fox Hawk with pathfinding\"\n",
    ")"
   ]
  }
 ],
 "metadata": {
  "kernelspec": {
   "display_name": "Julia 1.11.5",
   "language": "julia",
   "name": "julia-1.11"
  },
  "language_info": {
   "file_extension": ".jl",
   "mimetype": "application/julia",
   "name": "julia",
   "version": "1.11.5"
  }
 },
 "nbformat": 4,
 "nbformat_minor": 5
}
