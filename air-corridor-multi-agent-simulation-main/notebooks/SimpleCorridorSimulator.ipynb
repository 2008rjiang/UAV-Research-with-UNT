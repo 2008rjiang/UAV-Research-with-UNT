{
 "cells": [
  {
   "cell_type": "markdown",
   "id": "26bbded7-3458-4421-8830-b6c387751b96",
   "metadata": {},
   "source": [
    "# Air Corridor Simulator\n",
    "\n",
    "Simple air corridor simulator based on cellular automata. The air corridor is represented as a one-dimentional grid. Vehicles can move one cell at a time in one direction. We use discrete time steps. Vehicles vary in speed and may not reach to the next cell between time steps. Vehicles at maximum speed may advance at most on cell per time step.\n",
    "\n",
    "Instead of simulating variations in the vehicles' velocity we define the transition probabilities $P_{\\rm stay}$ and $P_{\\rm move}$ at which a vehicle may advance to the next cell.\n",
    "\n",
    "Whereby \n",
    "$$P_{\\rm stay} = {\\rm constant,\\;randomly\\;assigned\\;to\\;a\\;vehicle}$$\n",
    "and\n",
    "$$P_{\\rm move} = 1 - P_{\\rm stay}$$\n",
    "\n",
    "This diagram depicts the air corridor with $nc$ cells. Traffic flow is from the left to the right, starting with cell 0. A new vehicle can only enter if cell 0 is not occupied.\n",
    "The vehicle leave the corridor from cell $nc-1$. There is no obstacle\n",
    "\n",
    "```\n",
    "           0                 i    i+1   i+2                           nc-1 \n",
    "        |-----|-----|-----|-----|-----|-----|-----|-----|-----|-----|-----|\n",
    "   ==>  |     |     |     | a_2 | a_1 |     |     |     | a_0 |     |     |  ==> \n",
    "        |-----|-----|-----|-----|-----|-----|-----|-----|-----|-----|-----|\n",
    "```\n",
    "The Manhattan Mobility model allows vehicles to move forward with a given probability iif the next cell is vacant. For a vehicle $a$ in cell $i$ at time $t$ the probabilities for the next time step $t+1$ are:\n",
    "\n",
    "\n",
    "$$ P_{a,t+1}(x=i+1) = \n",
    "\\left\\{ \n",
    "  \\begin{array}{ c l }\n",
    "      0            & \\quad \\textrm{if } a+1 \\textrm{ is occupied} \\\\\n",
    "      P_{\\rm move} & \\quad \\textrm{otherwise}\n",
    "  \\end{array}\n",
    "\\right.\n",
    "$$\n",
    "\n",
    "The following parameters need to be defined:\n",
    "\n",
    "| Parameter | Description |\n",
    "|-----------|-------------|\n",
    "| $nc$      | Number of cells in the air corridor |\n",
    "| $nv$      | Number of vehicles in the simulation; once a vehicle travelled trhough the entire corridor it starts back at the beginning |\n",
    "| $nt$      | Number of time stept in the simluation |\n",
    "| $P_{\\rm stay}^{\\rm min}$ | Minimum value of the randomly assigned probability $P_{\\rm stay}$ |\n",
    "| $P_{\\rm stay}^{\\rm max}$ | Maximum value of the randomly assigned probability $P_{\\rm stay}$ |"
   ]
  },
  {
   "cell_type": "markdown",
   "id": "33a76184-6ec5-45bd-8cca-bd9bc1f16e92",
   "metadata": {},
   "source": [
    "# Setup"
   ]
  },
  {
   "cell_type": "code",
   "execution_count": 16,
   "id": "dc326531-fb25-4852-99b1-dbb21236d8ff",
   "metadata": {},
   "outputs": [],
   "source": [
    "import os\n",
    "jp = os.path.join\n",
    "import sys\n",
    "import numpy as np\n",
    "%matplotlib inline\n",
    "import matplotlib.pyplot as plt\n",
    "import datetime\n",
    "now = datetime.datetime.now"
   ]
  },
  {
   "cell_type": "code",
   "execution_count": 17,
   "id": "c871ad36-9395-4d32-94a9-13ec450dfa1f",
   "metadata": {},
   "outputs": [],
   "source": [
    "! mkdir -p figs/png\n",
    "! mkdir -p figs/pdf\n",
    "! mkdir -p figs/svg"
   ]
  },
  {
   "cell_type": "markdown",
   "id": "b4861b46-c327-4a17-977c-f028caab15ba",
   "metadata": {},
   "source": [
    "## Intialization Step"
   ]
  },
  {
   "cell_type": "code",
   "execution_count": 37,
   "id": "7b8d86b2-7f10-45aa-b0b5-376ddb080374",
   "metadata": {},
   "outputs": [],
   "source": [
    "def simulation_init(nc, nv, nt, P_stay_min, P_stay_max):\n",
    "    \"\"\"\n",
    "    Intialize arrays for simulation\n",
    "    \n",
    "    Parameters:\n",
    "        nc         - Number of cells in the air corridor\n",
    "        nv         - Number of vehicles in the simulation\n",
    "        P_stay_min -  Minimum value of the randomly assigned probability $P_{\\rm stay}$\n",
    "        P_stay_max - Maximum value of the randomly assigned probability $P_{\\rm stay}$\n",
    "        \n",
    "    Returns:\n",
    "        Corridor  - Array (nc x 1) of cells with vehicle id in their respective cell, NaN if cell is not occupied\n",
    "        Positions - Array (nv x 1) of vehicles with their respective cell position, -1 if not in corridor\n",
    "        Density   - Matrix (nv x nc) to count presences of vehicles, accumulates over the course of the simulation to compute\n",
    "                    Probability distribution of vehicles in cells\n",
    "    \"\"\"\n",
    "    import numpy as np\n",
    "    Corridor = np.empty(shape=nc)\n",
    "    Corridor[:] = np.NaN\n",
    "    \n",
    "    Position = np.empty(shape=nv, dtype=int)\n",
    "    Position[:] = -1\n",
    "\n",
    "    P_stay = P_stay_min + (P_stay_max - P_stay_min) * np.random.random(size=nv)\n",
    "    \n",
    "    Density = np.zeros((nv, nc))\n",
    "    \n",
    "    print(f\"\"\"\n",
    "Number of cells in corridor (nc)  : {nc:,}\n",
    "Number of vehicles (nv)           : {nv:,}\n",
    "Number of steps in simulation (nt): {nt:,}\n",
    "Probability to stay (P_stay)      : [{P_stay_min}, {P_stay_max}]\n",
    "            \"\"\")\n",
    "    \n",
    "    return Corridor, Position, P_stay, Density"
   ]
  },
  {
   "cell_type": "markdown",
   "id": "3e51bb5d-47be-4a1f-a6e9-9bdcfc54d89a",
   "metadata": {},
   "source": [
    "## Simulation Step"
   ]
  },
  {
   "cell_type": "code",
   "execution_count": 3,
   "id": "82b1ea51-0edc-4fdb-aa88-9b1704beec7c",
   "metadata": {},
   "outputs": [],
   "source": [
    "def simulation_step(t, Corridor, Position, P_stay, Density, Trajectory=None):\n",
    "    \"\"\"\n",
    "    Run single simulation step. The function updates the given arrays.\n",
    "    \n",
    "    Parameters:\n",
    "        t (int)    - Time step, should start with 0 and increase by 1\n",
    "        Corridor   - Array (nc x 1) of cells with vehicle id in their respective cell, NaN if cell is not occupied\n",
    "        Positions  - Array (nv x 1) of vehicles with their respective cell position, -1 if not in corridor\n",
    "        Density    - Matrix (nv x nc) to count presences of vehicles, accumulates over the course of the simulation to compute\n",
    "                     Probability distribution of vehicles in cells\n",
    "        Trajectory - Matrix (nt x nc) to capture the vehicles' trajectories (optinoal)\n",
    "        \n",
    "    \"\"\"\n",
    "    import numpy as np\n",
    "    \n",
    "    nv, nc = Density.shape\n",
    "    position_check = np.zeros(nc)\n",
    "    # The positions of the vehicles need to updated in order of their position in the corridor, down-stream to up-stream \n",
    "    for alpha in map(lambda z: z[0], sorted([ (alpha, Position[alpha]) for alpha in range(nv) ], key=lambda t: t[1], reverse=True)):\n",
    "        if np.random.random() > P_stay[alpha]: # move forward\n",
    "            attempt_x = Position[alpha] + 1 if Position[alpha]>=0 else 0\n",
    "            if attempt_x >= nc:\n",
    "                # end of corridor\n",
    "                Position[alpha] = -1\n",
    "            elif position_check[attempt_x]==0:\n",
    "                # position is open\n",
    "                new_x = attempt_x\n",
    "                Position[alpha] = new_x\n",
    "                position_check[Position[alpha]] += 1\n",
    "            else:\n",
    "                # cannot move forward\n",
    "                if Position[alpha]>=0: \n",
    "                    position_check[Position[alpha]] += 1\n",
    "        else: # stay\n",
    "            if Position[alpha]>=0: \n",
    "                position_check[Position[alpha]] += 1\n",
    "            \n",
    "        # check if not violated\n",
    "        assert position_check.max()<2, f\"Position already occupied: t={t}, alpha={alpha}, {Position}\"\n",
    "        \n",
    "        if 0 <= Position[alpha] < nc:\n",
    "            Density[alpha, Position[alpha]] += 1\n",
    "        \n",
    "    if Trajectory is not None and t<Trajectory.shape[0]:\n",
    "        Trajectory[t, position_check>0] = 1"
   ]
  },
  {
   "cell_type": "markdown",
   "id": "428162ae-3d70-4817-a48f-e5229172ad75",
   "metadata": {},
   "source": [
    "## Suffix for output files"
   ]
  },
  {
   "cell_type": "code",
   "execution_count": 38,
   "id": "1013e40f-591c-4434-9ce2-f84260b53ef9",
   "metadata": {},
   "outputs": [],
   "source": [
    "def file_name_suffix(nc, nv, nt, P_stay_min, P_stay_max):\n",
    "    return f\"nc{nc}_nv{nv}_nt{nt}_p{P_stay_min:.3f}_{P_stay_max:.3f}\""
   ]
  },
  {
   "cell_type": "markdown",
   "id": "746493b7-9311-43b7-84d2-2b5ccfa66273",
   "metadata": {},
   "source": [
    "# Run Simulation"
   ]
  },
  {
   "cell_type": "code",
   "execution_count": 4,
   "id": "ac1b5b45-d460-49e1-8509-9625b89d478e",
   "metadata": {},
   "outputs": [
    {
     "name": "stdout",
     "output_type": "stream",
     "text": [
      "Number of cells in air corridor: 100\n",
      "Number of vehicles: 20\n"
     ]
    }
   ],
   "source": [
    "# Number of cells\n",
    "nc = 100\n",
    "# Number of vehicles\n",
    "nv = 20\n",
    "# number of timesteps\n",
    "nt = 100000\n",
    "# P_stay interval\n",
    "P_stay_min = 0.05\n",
    "P_stay_max = 0.20\n",
    "\n",
    "# Intialize\n",
    "Corridor, Position, P_stay, Density = simulation_init(nc, nv, nt, P_stay_min, P_stay_max)\n",
    "\n",
    "# Define Trajectory matrix\n",
    "maxTrajectoryTimeSteps = 200\n",
    "Trajectory = np.zeros((min([nt, maxTrajectoryTimeSteps]), nc))"
   ]
  },
  {
   "cell_type": "markdown",
   "id": "2d1a6efa-8288-43e9-a7c0-358e05eb437d",
   "metadata": {},
   "source": [
    "After initialization we call `simulation_step` in a loop. Since we're interested in the stationary density dsitribution we take snapshots of selected time steps to look for convergence."
   ]
  },
  {
   "cell_type": "code",
   "execution_count": 5,
   "id": "261e7b2a-d327-4d14-a4cd-1cf4f490db9e",
   "metadata": {},
   "outputs": [
    {
     "name": "stdout",
     "output_type": "stream",
     "text": [
      "Elapsed time: 0:00:11.700097\n"
     ]
    }
   ],
   "source": [
    "T_0 = now()\n",
    "\n",
    "density_convergence = []\n",
    "for t in range(nt):\n",
    "    simulation_step(t, Corridor, Position, P_stay, Density, Trajectory)\n",
    "    if (t >= 10000) and (t % 100 == 0):\n",
    "        D_sum = Density.sum(axis=1)\n",
    "        Density_normalized = Density / D_sum[:, np.newaxis]\n",
    "        density_convergence.append( (t, Density_normalized.reshape(-1).mean(), Density_normalized.reshape(-1).std()) )\n",
    "\n",
    "print(f\"Elapsed time: {now()-T_0}\")"
   ]
  },
  {
   "cell_type": "markdown",
   "id": "45d99c04-a30a-49b4-b239-d574c35346ef",
   "metadata": {},
   "source": [
    "# Analyze Results"
   ]
  },
  {
   "cell_type": "markdown",
   "id": "cebb3ffe-ff6a-4d81-b891-6b182706665c",
   "metadata": {},
   "source": [
    "Let's look at the `Density` matrix first. Each row represents a vehcile, and each column represents a cell in the air corridor. We're looking for an even distribution. For Each vehicle the likelyhood to be in any cell should be equal."
   ]
  },
  {
   "cell_type": "code",
   "execution_count": 6,
   "id": "97d37b66-6342-4973-b08c-b513720d909a",
   "metadata": {},
   "outputs": [
    {
     "data": {
      "image/png": "[encoded data removed]",
      "text/plain": [
       "<Figure size 1800x360 with 2 Axes>"
      ]
     },
     "metadata": {
      "needs_background": "light"
     },
     "output_type": "display_data"
    }
   ],
   "source": [
    "plt.figure(figsize=(25, 5))\n",
    "plt.imshow(Density/nt, vmin=0)\n",
    "plt.colorbar()\n",
    "plt.xlabel('Cells')\n",
    "plt.ylabel('Vehicles')\n",
    "plt.title('Probability Density')\n",
    "plt.show()\n",
    "plt.close()"
   ]
  },
  {
   "cell_type": "markdown",
   "id": "7e3a1e22-0bca-4819-960b-278ecd5184e7",
   "metadata": {},
   "source": [
    "We are interested in the stationary probability distribution $\\lim_{t \\rightarrow \\infty} P$. We expect the standard deviation accross the elements of the density to vanish for large $t$."
   ]
  },
  {
   "cell_type": "code",
   "execution_count": 24,
   "id": "35fce09d-14e9-4d11-8c53-2d3a9930d399",
   "metadata": {},
   "outputs": [
    {
     "data": {
      "image/png": "[encoded data removed]",
      "text/plain": [
       "<Figure size 432x216 with 1 Axes>"
      ]
     },
     "metadata": {
      "needs_background": "light"
     },
     "output_type": "display_data"
    }
   ],
   "source": [
    "_t = np.array([v[0] for v in density_convergence])\n",
    "_m = np.array([v[1] for v in density_convergence])\n",
    "_s = np.array([v[2] for v in density_convergence])\n",
    "\n",
    "fig = plt.figure(figsize=(6,3))\n",
    "plt.fill_between(_t, _m - _s, _m + _s, alpha=0.3)\n",
    "plt.plot(_t, _m)\n",
    "plt.xlabel('Time Steps')\n",
    "plt.ylabel('Probability Density $[\\mu-\\sigma , \\mu+\\sigma]$')\n",
    "plt.title('Convergence of $P$')\n",
    "plt.show()\n",
    "fnsuff = file_name_suffix(nc, nv, nt, P_stay_min, P_stay_max)\n",
    "for ext in ['pdf', 'svg', 'png']:\n",
    "    fig.savefig(jp('figs', ext, f\"convergence_{fnsuff}.{ext}\"), bbox_inches='tight')\n",
    "plt.close()"
   ]
  },
  {
   "cell_type": "markdown",
   "id": "008de18c-fef1-42eb-b613-100ae041f8fe",
   "metadata": {},
   "source": [
    "We also need to check how the stationary probability distribution $\\lim_{t \\rightarrow \\infty} P$ compares along the corridor."
   ]
  },
  {
   "cell_type": "code",
   "execution_count": 25,
   "id": "14ec4657-5533-4b7f-92ba-df8b518d11bd",
   "metadata": {},
   "outputs": [
    {
     "data": {
      "image/png": "[encoded data removed]",
      "text/plain": [
       "<Figure size 432x216 with 1 Axes>"
      ]
     },
     "metadata": {
      "needs_background": "light"
     },
     "output_type": "display_data"
    }
   ],
   "source": [
    "D_sum = Density.sum(axis=1)\n",
    "Density_normalized = Density / D_sum[:, np.newaxis]\n",
    "fig = plt.figure(figsize=(6,3))\n",
    "plt.plot(range(nc), Density_normalized.mean(axis=0))\n",
    "plt.ylim(0, 1.1*Density_normalized.mean(axis=0).max())\n",
    "plt.xlabel('Cells')\n",
    "plt.ylabel('$P$')\n",
    "plt.title('Stationary Distribution per Cell')\n",
    "plt.show()\n",
    "fnsuff = file_name_suffix(nc, nv, nt, P_stay_min, P_stay_max)\n",
    "for ext in ['pdf', 'svg', 'png']:\n",
    "    fig.savefig(jp('figs', ext, f\"stationary_distr_{fnsuff}.{ext}\"), bbox_inches='tight')\n",
    "plt.close()"
   ]
  },
  {
   "cell_type": "markdown",
   "id": "8a0f412a-0524-4b4b-92c7-1390caa531ac",
   "metadata": {},
   "source": [
    "# Simulation with very slow vehicles\n",
    "Let's change the probabilities for vehicles to remain in the same cell, i.e. they move slow."
   ]
  },
  {
   "cell_type": "code",
   "execution_count": 9,
   "id": "5e114105-a70f-44b4-895c-34c71951df3b",
   "metadata": {},
   "outputs": [
    {
     "name": "stdout",
     "output_type": "stream",
     "text": [
      "Number of cells in air corridor: 100\n",
      "Number of vehicles: 20\n",
      "Elapsed time: 0:00:10.746059\n"
     ]
    }
   ],
   "source": [
    "# Number of cells\n",
    "nc = 100\n",
    "# Number of vehicles\n",
    "nv = 20\n",
    "# number of timesteps\n",
    "nt = 100000\n",
    "# P_stay interval\n",
    "P_stay_min = 0.20  ## 0.05\n",
    "P_stay_max = 0.90  ## 0.20\n",
    "\n",
    "# Intialize\n",
    "Corridor_slow, Position_slow, P_stay_slow, Density_slow = simulation_init(nc, nv, nt, P_stay_min, P_stay_max)\n",
    "\n",
    "# Define Trajectory matrix\n",
    "maxTrajectoryTimeSteps = 200\n",
    "Trajectory_slow = np.zeros((min([nt, maxTrajectoryTimeSteps]), nc))\n",
    "\n",
    "T_0 = now()\n",
    "\n",
    "density_convergence_slow = []\n",
    "for t in range(nt):\n",
    "    simulation_step(t, Corridor_slow, Position_slow, P_stay_slow, Density_slow, Trajectory_slow)\n",
    "    if (t >= 10000) and (t % 100 == 0):\n",
    "        D_sum = Density_slow.sum(axis=1)\n",
    "        Density_normalized_slow = Density_slow / D_sum[:, np.newaxis]\n",
    "        density_convergence_slow.append( (t, Density_normalized_slow.reshape(-1).mean(), Density_normalized_slow.reshape(-1).std()) )\n",
    "\n",
    "print(f\"Elapsed time: {now()-T_0}\")"
   ]
  },
  {
   "cell_type": "markdown",
   "id": "a16faba0-f3a1-4e12-bf30-0a855870b07b",
   "metadata": {},
   "source": [
    "Let's compare the two simulations approach the stationary distribution."
   ]
  },
  {
   "cell_type": "code",
   "execution_count": 26,
   "id": "6549c440-31da-4e72-bcac-9f117c183c66",
   "metadata": {},
   "outputs": [
    {
     "data": {
      "image/png": "[encoded data removed]",
      "text/plain": [
       "<Figure size 864x216 with 2 Axes>"
      ]
     },
     "metadata": {
      "needs_background": "light"
     },
     "output_type": "display_data"
    }
   ],
   "source": [
    "_t = np.array([v[0] for v in density_convergence])\n",
    "_m = np.array([v[1] for v in density_convergence])\n",
    "_s = np.array([v[2] for v in density_convergence])\n",
    "\n",
    "_t_slow = np.array([v[0] for v in density_convergence_slow])\n",
    "_m_slow = np.array([v[1] for v in density_convergence_slow])\n",
    "_s_slow = np.array([v[2] for v in density_convergence_slow])\n",
    "\n",
    "y_max = max([np.max(_m+_s), np.max(_m_slow+_s_slow)])\n",
    "y_min = min([np.min(_m-_s), np.min(_m_slow-_s_slow)])\n",
    "\n",
    "fig = plt.figure(figsize=(12,3))\n",
    "\n",
    "plt.subplot(1,2,1)\n",
    "plt.fill_between(_t, _m - _s, _m + _s, alpha=0.3)\n",
    "plt.plot(_t, _m)\n",
    "plt.ylim(y_min, y_max)\n",
    "plt.xlabel('Time Steps')\n",
    "plt.ylabel('Probability Density $[\\mu-\\sigma , \\mu+\\sigma]$')\n",
    "plt.title('Convergence of $P$')\n",
    "\n",
    "plt.subplot(1,2,2)\n",
    "plt.fill_between(_t_slow, _m_slow - _s_slow, _m_slow + _s_slow, alpha=0.3)\n",
    "plt.plot(_t_slow, _m_slow)\n",
    "plt.ylim(y_min, y_max)\n",
    "plt.xlabel('Time Steps')\n",
    "plt.ylabel('Probability Density $[\\mu-\\sigma , \\mu+\\sigma]$')\n",
    "plt.title('Convergence of $P$ of SLOW vehicles')\n",
    "\n",
    "plt.show()\n",
    "fnsuff = file_name_suffix(nc, nv, nt, P_stay_min, P_stay_max)\n",
    "for ext in ['pdf', 'svg', 'png']:\n",
    "    fig.savefig(jp('figs', ext, f\"convergence_fast_slow_{fnsuff}.{ext}\"), bbox_inches='tight')\n",
    "plt.close()"
   ]
  },
  {
   "cell_type": "markdown",
   "id": "e2526979-c25e-4ca4-b905-62807dff892f",
   "metadata": {},
   "source": [
    "The simulation with *slow* vehicles takes much longer to converge. The standard deviation is much greater in the second simulation.\n",
    "\n",
    "Now, let's compare along the corridor"
   ]
  },
  {
   "cell_type": "code",
   "execution_count": 33,
   "id": "283221a2-3d81-4473-9224-aa36c263ab27",
   "metadata": {},
   "outputs": [
    {
     "data": {
      "image/png": "[encoded data removed]",
      "text/plain": [
       "<Figure size 864x216 with 2 Axes>"
      ]
     },
     "metadata": {
      "needs_background": "light"
     },
     "output_type": "display_data"
    }
   ],
   "source": [
    "D_sum = Density.sum(axis=1)\n",
    "Density_normalized = Density / D_sum[:, np.newaxis]\n",
    "\n",
    "D_sum_slow = Density_slow.sum(axis=1)\n",
    "Density_normalized_slow = Density_slow / D_sum_slow[:, np.newaxis]\n",
    "\n",
    "y_max = max(Density_normalized.mean(axis=0).max(), Density_normalized_slow.mean(axis=0).max())\n",
    "\n",
    "fig = plt.figure(figsize=(12,3))\n",
    "plt.subplot(1,2,1)\n",
    "plt.plot(range(nc), Density_normalized.mean(axis=0))\n",
    "plt.ylim(0, 1.1*y_max)\n",
    "plt.xlabel('Cells')\n",
    "plt.ylabel('$P$')\n",
    "plt.title('Stationary Distribution per Cell')\n",
    "\n",
    "plt.subplot(1,2,2)\n",
    "plt.plot(range(nc), Density_normalized_slow.mean(axis=0))\n",
    "plt.ylim(0, 1.1*y_max)\n",
    "plt.xlabel('Cells')\n",
    "#plt.ylabel('$P$')\n",
    "# ax = plt.gca()\n",
    "# ax.axes.yaxis.set_visible(False)\n",
    "plt.title('Stationary Distribution per Cell for SLOW vehicles')\n",
    "plt.show()\n",
    "fnsuff = file_name_suffix(nc, nv, nt, P_stay_min, P_stay_max)\n",
    "for ext in ['pdf', 'svg', 'png']:\n",
    "    fig.savefig(jp('figs', ext, f\"stationary_distr_fast_slow_{fnsuff}.{ext}\"), bbox_inches='tight')\n",
    "plt.close()"
   ]
  },
  {
   "cell_type": "markdown",
   "id": "5472e4a9-fa1d-4be0-9910-d4b282f603e2",
   "metadata": {},
   "source": [
    "In the case of *slow* vehicles the cells at the end of the corridor are less likely to be occupied. It may take many more simulation steps to even out the distrubution."
   ]
  },
  {
   "cell_type": "markdown",
   "id": "49a671ed-ff1d-4d51-8c61-c6c53667141c",
   "metadata": {},
   "source": [
    "# Vehicle Trajectories\n",
    "Show how the vehicles move along the corridor (horizontal axis). The vertical axis depicts the time."
   ]
  },
  {
   "cell_type": "code",
   "execution_count": 34,
   "id": "56cbbe5f-1cf7-4375-aeea-9b01fb37eda1",
   "metadata": {},
   "outputs": [
    {
     "data": {
      "image/png": "[encoded data removed]",
      "text/plain": [
       "<Figure size 864x864 with 2 Axes>"
      ]
     },
     "metadata": {
      "needs_background": "light"
     },
     "output_type": "display_data"
    }
   ],
   "source": [
    "fig = plt.figure(figsize=(12, 12))\n",
    "plt.subplot(1,2,1)\n",
    "plt.xlabel('Cells')\n",
    "plt.ylabel('Time Steps')\n",
    "plt.title('Trajectories with $P_{stay} \\in [5\\%, 20\\%]$')\n",
    "plt.imshow(Trajectory, vmin=0)\n",
    "plt.subplot(1,2,2)\n",
    "plt.imshow(Trajectory_slow, vmin=0)\n",
    "plt.xlabel('Cells')\n",
    "#plt.ylabel('Time Steps')\n",
    "plt.title('Trajectories with $P_{stay} \\in [20\\%, 90\\%]$')\n",
    "\n",
    "plt.show()\n",
    "fnsuff = file_name_suffix(nc, nv, nt, P_stay_min, P_stay_max)\n",
    "for ext in ['pdf', 'svg', 'png']:\n",
    "    fig.savefig(jp('figs', ext, f\"trajectories_fast_slow_{fnsuff}.{ext}\"), bbox_inches='tight')\n",
    "plt.close()\n"
   ]
  },
  {
   "cell_type": "markdown",
   "id": "c5fe0cdb-7df2-4501-ac6f-079692638b5c",
   "metadata": {},
   "source": [
    "# Things to try\n",
    "\n",
    "- Change the range of $P_{\\rm stay}$, i.e., fast vs slow moving vehicles, mixture for fast and slow\n",
    "- Change traffic volume, i.e. ratio of vehicles to cells in corridor $\\frac{nv}{nc}$\n",
    "- Increase number of time steps $nt$ for convergence"
   ]
  },
  {
   "cell_type": "code",
   "execution_count": 43,
   "id": "d7c5fd64-e592-44fd-a351-02340bad7eb5",
   "metadata": {},
   "outputs": [],
   "source": [
    "maxTrajectoryTimeSteps = 200\n",
    "\n",
    "# Number of cells\n",
    "nc = 100\n",
    "\n",
    "def save_fig(fig, name, fnsuff):\n",
    "    for ext in ['pdf', 'svg', 'png']:\n",
    "        fig.savefig(jp('figs', ext, f\"{name}_{fnsuff}.{ext}\"), bbox_inches='tight')"
   ]
  },
  {
   "cell_type": "code",
   "execution_count": 46,
   "id": "6c545e81-5984-45ef-960c-87a01018b6f3",
   "metadata": {},
   "outputs": [
    {
     "name": "stdout",
     "output_type": "stream",
     "text": [
      "\n",
      "Simulation: nc100_nv10_nt100000_p0.200_0.900_slow\n",
      "\n",
      "Number of cells in corridor (nc)  : 100\n",
      "Number of vehicles (nv)           : 10\n",
      "Number of steps in simulation (nt): 100,000\n",
      "Probability to stay (P_stay)      : [0.2, 0.9]\n",
      "            \n",
      "Elapsed time: 0:00:05.844714\n",
      "\n",
      "Simulation: nc100_nv10_nt10000000_p0.200_0.900_slow\n",
      "\n",
      "Number of cells in corridor (nc)  : 100\n",
      "Number of vehicles (nv)           : 10\n",
      "Number of steps in simulation (nt): 10,000,000\n",
      "Probability to stay (P_stay)      : [0.2, 0.9]\n",
      "            \n",
      "Elapsed time: 0:09:23.497527\n",
      "\n",
      "Simulation: nc100_nv10_nt100000_p0.050_0.200_medium\n",
      "\n",
      "Number of cells in corridor (nc)  : 100\n",
      "Number of vehicles (nv)           : 10\n",
      "Number of steps in simulation (nt): 100,000\n",
      "Probability to stay (P_stay)      : [0.05, 0.2]\n",
      "            \n",
      "Elapsed time: 0:00:06.032247\n",
      "\n",
      "Simulation: nc100_nv10_nt10000000_p0.050_0.200_medium\n",
      "\n",
      "Number of cells in corridor (nc)  : 100\n",
      "Number of vehicles (nv)           : 10\n",
      "Number of steps in simulation (nt): 10,000,000\n",
      "Probability to stay (P_stay)      : [0.05, 0.2]\n",
      "            \n",
      "Elapsed time: 0:09:51.167546\n",
      "\n",
      "Simulation: nc100_nv10_nt100000_p0.001_0.050_fast\n",
      "\n",
      "Number of cells in corridor (nc)  : 100\n",
      "Number of vehicles (nv)           : 10\n",
      "Number of steps in simulation (nt): 100,000\n",
      "Probability to stay (P_stay)      : [0.001, 0.05]\n",
      "            \n",
      "Elapsed time: 0:00:06.025268\n",
      "\n",
      "Simulation: nc100_nv10_nt10000000_p0.001_0.050_fast\n",
      "\n",
      "Number of cells in corridor (nc)  : 100\n",
      "Number of vehicles (nv)           : 10\n",
      "Number of steps in simulation (nt): 10,000,000\n",
      "Probability to stay (P_stay)      : [0.001, 0.05]\n",
      "            \n",
      "Elapsed time: 0:09:55.032435\n",
      "\n",
      "Simulation: nc100_nv20_nt100000_p0.200_0.900_slow\n",
      "\n",
      "Number of cells in corridor (nc)  : 100\n",
      "Number of vehicles (nv)           : 20\n",
      "Number of steps in simulation (nt): 100,000\n",
      "Probability to stay (P_stay)      : [0.2, 0.9]\n",
      "            \n",
      "Elapsed time: 0:00:10.953765\n",
      "\n",
      "Simulation: nc100_nv20_nt10000000_p0.200_0.900_slow\n",
      "\n",
      "Number of cells in corridor (nc)  : 100\n",
      "Number of vehicles (nv)           : 20\n",
      "Number of steps in simulation (nt): 10,000,000\n",
      "Probability to stay (P_stay)      : [0.2, 0.9]\n",
      "            \n",
      "Elapsed time: 0:18:05.035462\n",
      "\n",
      "Simulation: nc100_nv20_nt100000_p0.050_0.200_medium\n",
      "\n",
      "Number of cells in corridor (nc)  : 100\n",
      "Number of vehicles (nv)           : 20\n",
      "Number of steps in simulation (nt): 100,000\n",
      "Probability to stay (P_stay)      : [0.05, 0.2]\n",
      "            \n",
      "Elapsed time: 0:00:11.418854\n",
      "\n",
      "Simulation: nc100_nv20_nt10000000_p0.050_0.200_medium\n",
      "\n",
      "Number of cells in corridor (nc)  : 100\n",
      "Number of vehicles (nv)           : 20\n",
      "Number of steps in simulation (nt): 10,000,000\n",
      "Probability to stay (P_stay)      : [0.05, 0.2]\n",
      "            \n",
      "Elapsed time: 0:18:59.426805\n",
      "\n",
      "Simulation: nc100_nv20_nt100000_p0.001_0.050_fast\n",
      "\n",
      "Number of cells in corridor (nc)  : 100\n",
      "Number of vehicles (nv)           : 20\n",
      "Number of steps in simulation (nt): 100,000\n",
      "Probability to stay (P_stay)      : [0.001, 0.05]\n",
      "            \n",
      "Elapsed time: 0:00:11.608457\n",
      "\n",
      "Simulation: nc100_nv20_nt10000000_p0.001_0.050_fast\n",
      "\n",
      "Number of cells in corridor (nc)  : 100\n",
      "Number of vehicles (nv)           : 20\n",
      "Number of steps in simulation (nt): 10,000,000\n",
      "Probability to stay (P_stay)      : [0.001, 0.05]\n",
      "            \n",
      "Elapsed time: 0:19:17.967577\n",
      "\n",
      "Simulation: nc100_nv50_nt100000_p0.200_0.900_slow\n",
      "\n",
      "Number of cells in corridor (nc)  : 100\n",
      "Number of vehicles (nv)           : 50\n",
      "Number of steps in simulation (nt): 100,000\n",
      "Probability to stay (P_stay)      : [0.2, 0.9]\n",
      "            \n",
      "Elapsed time: 0:00:26.502753\n",
      "\n",
      "Simulation: nc100_nv50_nt10000000_p0.200_0.900_slow\n",
      "\n",
      "Number of cells in corridor (nc)  : 100\n",
      "Number of vehicles (nv)           : 50\n",
      "Number of steps in simulation (nt): 10,000,000\n",
      "Probability to stay (P_stay)      : [0.2, 0.9]\n",
      "            \n",
      "Elapsed time: 0:43:39.543160\n",
      "\n",
      "Simulation: nc100_nv50_nt100000_p0.050_0.200_medium\n",
      "\n",
      "Number of cells in corridor (nc)  : 100\n",
      "Number of vehicles (nv)           : 50\n",
      "Number of steps in simulation (nt): 100,000\n",
      "Probability to stay (P_stay)      : [0.05, 0.2]\n",
      "            \n",
      "Elapsed time: 0:00:28.280931\n",
      "\n",
      "Simulation: nc100_nv50_nt10000000_p0.050_0.200_medium\n",
      "\n",
      "Number of cells in corridor (nc)  : 100\n",
      "Number of vehicles (nv)           : 50\n",
      "Number of steps in simulation (nt): 10,000,000\n",
      "Probability to stay (P_stay)      : [0.05, 0.2]\n",
      "            \n",
      "Elapsed time: 0:46:43.668630\n",
      "\n",
      "Simulation: nc100_nv50_nt100000_p0.001_0.050_fast\n",
      "\n",
      "Number of cells in corridor (nc)  : 100\n",
      "Number of vehicles (nv)           : 50\n",
      "Number of steps in simulation (nt): 100,000\n",
      "Probability to stay (P_stay)      : [0.001, 0.05]\n",
      "            \n",
      "Elapsed time: 0:00:28.489450\n",
      "\n",
      "Simulation: nc100_nv50_nt10000000_p0.001_0.050_fast\n",
      "\n",
      "Number of cells in corridor (nc)  : 100\n",
      "Number of vehicles (nv)           : 50\n",
      "Number of steps in simulation (nt): 10,000,000\n",
      "Probability to stay (P_stay)      : [0.001, 0.05]\n",
      "            \n",
      "Elapsed time: 0:47:24.789674\n"
     ]
    }
   ],
   "source": [
    "with_title = False\n",
    "\n",
    "# P_stay_min = 0.20  ## 0.05\n",
    "# P_stay_max = 0.90  ## 0.20\n",
    "P_stay_by_speed = {'slow': (0.20, 0.90), 'medium': (0.05, 0.20), 'fast': (0.001, 0.050)}\n",
    "nt_choices = {'100K': 100000, '10M': 10000000}\n",
    "\n",
    "for nv in [10, 20, 50]: # Number of vehicles\n",
    "    for speed in ['slow', 'medium', 'fast']:\n",
    "        P_stay_min, P_stay_max = P_stay_by_speed[speed]\n",
    "        for nt_ch in ['100K', '10M']: \n",
    "            nt = nt_choices[nt_ch]\n",
    "            \n",
    "            fn_suffix = file_name_suffix(nc, nv, nt, P_stay_min, P_stay_max)+f\"_{speed}\"\n",
    "            print(f\"\\nSimulation: {fn_suffix}\")\n",
    "   \n",
    "            # Intialize\n",
    "            Corridor, Position, P_stay, Density = simulation_init(nc, nv, nt, P_stay_min, P_stay_max)\n",
    "\n",
    "            # Define Trajectory matrix\n",
    "            \n",
    "            Trajectory = np.zeros((min([nt, maxTrajectoryTimeSteps]), nc))\n",
    "            \n",
    "            # Run Simulation\n",
    "            T_0 = now()\n",
    "            density_convergence = []\n",
    "            for t in range(nt):\n",
    "                simulation_step(t, Corridor, Position, P_stay, Density, Trajectory)\n",
    "                if (t >= 10000) and (t % 100 == 0):\n",
    "                    D_sum = Density.sum(axis=1)\n",
    "                    Density_normalized = Density / D_sum[:, np.newaxis]\n",
    "                    density_convergence.append( (t, Density_normalized.reshape(-1).mean(), Density_normalized.reshape(-1).std()) )\n",
    "\n",
    "            print(f\"Elapsed time: {now()-T_0}\")\n",
    "            \n",
    "            # Analysis and Graphs\n",
    "            \n",
    "            ## Probability Density\n",
    "            fig = plt.figure(figsize=(12, 3))\n",
    "            plt.imshow(Density/nt, vmin=0)\n",
    "            plt.colorbar()\n",
    "            plt.xlabel('Cells')\n",
    "            plt.ylabel('Vehicles')\n",
    "            if with_title: plt.title('Probability Density')\n",
    "            # plt.show()\n",
    "            save_fig(fig, 'probability_density', fn_suffix)\n",
    "            plt.close()\n",
    "            \n",
    "            ## Convergence\n",
    "            _t = np.array([v[0] for v in density_convergence])\n",
    "            _m = np.array([v[1] for v in density_convergence])\n",
    "            _s = np.array([v[2] for v in density_convergence])\n",
    "\n",
    "            fig = plt.figure(figsize=(6,3))\n",
    "            plt.fill_between(_t, _m - _s, _m + _s, alpha=0.3)\n",
    "            plt.plot(_t, _m)\n",
    "            plt.xlabel('Time Steps')\n",
    "            plt.ylabel('Probability Density $[\\mu-\\sigma , \\mu+\\sigma]$')\n",
    "            if with_title: plt.title('Convergence of $P$')\n",
    "            # plt.show()\n",
    "            save_fig(fig, 'convergence', fn_suffix)\n",
    "            plt.close()\n",
    "            \n",
    "            ## Stationary Distribution\n",
    "            D_sum = Density.sum(axis=1)\n",
    "            Density_normalized = Density / D_sum[:, np.newaxis]\n",
    "            fig = plt.figure(figsize=(6,3))\n",
    "            plt.plot(range(nc), Density_normalized.mean(axis=0))\n",
    "            plt.ylim(0, 1.1*Density_normalized.mean(axis=0).max())\n",
    "            plt.xlabel('Cells')\n",
    "            plt.ylabel('$P$')\n",
    "            if with_title: plt.title('Stationary Distribution per Cell')\n",
    "            # plt.show()\n",
    "            save_fig(fig, 'stationary_distr', fn_suffix)\n",
    "            plt.close()\n",
    "            \n",
    "            ## Trajectories\n",
    "            fig = plt.figure(figsize=(6, 12))\n",
    "            plt.xlabel('Cells')\n",
    "            plt.ylabel('Time Steps')\n",
    "            # plt.title('Trajectories with $P_{stay} \\in [5\\%, 20\\%]$')\n",
    "            if with_title: plt.title('Trajectories')\n",
    "            plt.imshow(Trajectory, vmin=0)\n",
    "            # plt.show()\n",
    "            save_fig(fig, 'trajectories', fn_suffix)\n",
    "            plt.close()\n"
   ]
  },
  {
   "cell_type": "code",
   "execution_count": null,
   "id": "52433e07-cbd0-4dbc-aa18-2794400c720d",
   "metadata": {},
   "outputs": [],
   "source": []
  },
  {
   "cell_type": "code",
   "execution_count": null,
   "id": "9e341d9a-dfdf-49d4-ad6e-bf80439bd253",
   "metadata": {},
   "outputs": [],
   "source": []
  },
  {
   "cell_type": "code",
   "execution_count": null,
   "id": "f3a13f4e-7a22-4d3c-9195-a380c118f342",
   "metadata": {},
   "outputs": [],
   "source": []
  },
  {
   "cell_type": "code",
   "execution_count": null,
   "id": "2f586189-2c13-48b5-a1c5-588a8161f463",
   "metadata": {},
   "outputs": [],
   "source": []
  },
  {
   "cell_type": "code",
   "execution_count": null,
   "id": "a8e2ae7c-a364-4abe-9b23-df59618b44ed",
   "metadata": {},
   "outputs": [],
   "source": []
  }
 ],
 "metadata": {
  "kernelspec": {
   "display_name": "Python 3 (ipykernel)",
   "language": "python",
   "name": "python3"
  },
  "language_info": {
   "codemirror_mode": {
    "name": "ipython",
    "version": 3
   },
   "file_extension": ".py",
   "mimetype": "text/x-python",
   "name": "python",
   "nbconvert_exporter": "python",
   "pygments_lexer": "ipython3",
   "version": "3.11.2"
  }
 },
 "nbformat": 4,
 "nbformat_minor": 5
}
